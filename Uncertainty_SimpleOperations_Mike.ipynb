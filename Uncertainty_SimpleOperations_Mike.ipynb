{
 "cells": [
  {
   "cell_type": "markdown",
   "id": "numerical-billy",
   "metadata": {},
   "source": [
    "\"\"\"\n",
    "Created on Fri Sep 16 17:52:25 2022\n",
    "@author: fcosta\n",
    "\"\"\""
   ]
  },
  {
   "cell_type": "code",
   "execution_count": 1,
   "id": "medical-calculation",
   "metadata": {},
   "outputs": [],
   "source": [
    "import numpy as np\n",
    "import matplotlib.pyplot as plt \n",
    "import pandas as pd"
   ]
  },
  {
   "cell_type": "markdown",
   "id": "thousand-norway",
   "metadata": {},
   "source": [
    "# __Analytical view of correlated and uncorrelated uncertainties.__\n",
    "## Combined uncertainty in simple operations. Sum and substraction.\n",
    "When two input quantities are correlated, this correlation must be taken into account when estimating the combined uncertainty. \n",
    "\n",
    "This exercise aims to evaluate the effect of the correlation between two input quantities on their combined uncertainty. The measurand of interest is the distance of a string. To obtain the input quantities, or distances, we make use of two rulers. The fact that these two rulers were probably calibrated according to similar standards and operations, and scaled with comparable accuracy might make these measurements correlated.   \n",
    "We take N measurements with each ruler and obtain a mean value (L1_mean, L2_mean). The error in the measurement (U_ruler1, U_ruler2) is the standard deviation of the N measurements, and is associated with the shortest distance measurable by each ruler, with a coverage factor k."
   ]
  },
  {
   "cell_type": "markdown",
   "id": "martial-laptop",
   "metadata": {},
   "source": [
    "### Input quantities "
   ]
  },
  {
   "cell_type": "code",
   "execution_count": 2,
   "id": "corporate-remark",
   "metadata": {},
   "outputs": [],
   "source": [
    "# N° of points for the montecarlo simulation\n",
    "N=100000\n",
    "\n",
    "# Expected values of the measurand estimated using ruler1 and ruler2.\n",
    "L1_mean = 5 # expected value L1 [m]\n",
    "L2_mean = 1.9 # Expected value L2 [m]"
   ]
  },
  {
   "cell_type": "markdown",
   "id": "alternate-service",
   "metadata": {},
   "source": [
    "### Rulers' uncertainties and correlation coefficient"
   ]
  },
  {
   "cell_type": "code",
   "execution_count": 3,
   "id": "sporting-broad",
   "metadata": {},
   "outputs": [],
   "source": [
    "U_ruler1 = .01  # uncertainty ruler1 [m] (stdv)\n",
    "U_ruler2 = .03  # uncertainty ruler2 [m] (stdv)\n",
    "L_corr_n = .96  # degree of correlation between L1 and L2: [-1,1] --> 0:uncorrelated; -1,1:fully negatively/positively correlated\n",
    "k        = 3    # coverage factor \n",
    "n_dec    = 3    # N° of decimals in the results"
   ]
  },
  {
   "cell_type": "markdown",
   "id": "vocational-idaho",
   "metadata": {},
   "source": [
    "### Random distributions"
   ]
  },
  {
   "cell_type": "code",
   "execution_count": 4,
   "id": "fancy-wiring",
   "metadata": {},
   "outputs": [],
   "source": [
    "Distributions=pd.DataFrame({'L1':np.random.normal(L1_mean,U_ruler1,N),'L2':np.random.normal(L2_mean,U_ruler2,N)})"
   ]
  },
  {
   "cell_type": "code",
   "execution_count": 5,
   "id": "working-bhutan",
   "metadata": {},
   "outputs": [
    {
     "data": {
      "text/html": [
       "<div>\n",
       "<style scoped>\n",
       "    .dataframe tbody tr th:only-of-type {\n",
       "        vertical-align: middle;\n",
       "    }\n",
       "\n",
       "    .dataframe tbody tr th {\n",
       "        vertical-align: top;\n",
       "    }\n",
       "\n",
       "    .dataframe thead th {\n",
       "        text-align: right;\n",
       "    }\n",
       "</style>\n",
       "<table border=\"1\" class=\"dataframe\">\n",
       "  <thead>\n",
       "    <tr style=\"text-align: right;\">\n",
       "      <th></th>\n",
       "      <th>L1</th>\n",
       "      <th>L2</th>\n",
       "    </tr>\n",
       "  </thead>\n",
       "  <tbody>\n",
       "    <tr>\n",
       "      <th>0</th>\n",
       "      <td>4.999323</td>\n",
       "      <td>1.977201</td>\n",
       "    </tr>\n",
       "    <tr>\n",
       "      <th>1</th>\n",
       "      <td>4.996913</td>\n",
       "      <td>1.925527</td>\n",
       "    </tr>\n",
       "    <tr>\n",
       "      <th>2</th>\n",
       "      <td>4.994577</td>\n",
       "      <td>1.896124</td>\n",
       "    </tr>\n",
       "    <tr>\n",
       "      <th>3</th>\n",
       "      <td>4.999121</td>\n",
       "      <td>1.931464</td>\n",
       "    </tr>\n",
       "    <tr>\n",
       "      <th>4</th>\n",
       "      <td>4.990295</td>\n",
       "      <td>1.910214</td>\n",
       "    </tr>\n",
       "    <tr>\n",
       "      <th>...</th>\n",
       "      <td>...</td>\n",
       "      <td>...</td>\n",
       "    </tr>\n",
       "    <tr>\n",
       "      <th>99995</th>\n",
       "      <td>5.004644</td>\n",
       "      <td>1.941347</td>\n",
       "    </tr>\n",
       "    <tr>\n",
       "      <th>99996</th>\n",
       "      <td>4.996102</td>\n",
       "      <td>1.936581</td>\n",
       "    </tr>\n",
       "    <tr>\n",
       "      <th>99997</th>\n",
       "      <td>5.003164</td>\n",
       "      <td>1.856515</td>\n",
       "    </tr>\n",
       "    <tr>\n",
       "      <th>99998</th>\n",
       "      <td>4.999960</td>\n",
       "      <td>1.885850</td>\n",
       "    </tr>\n",
       "    <tr>\n",
       "      <th>99999</th>\n",
       "      <td>4.997259</td>\n",
       "      <td>1.947400</td>\n",
       "    </tr>\n",
       "  </tbody>\n",
       "</table>\n",
       "<p>100000 rows × 2 columns</p>\n",
       "</div>"
      ],
      "text/plain": [
       "             L1        L2\n",
       "0      4.999323  1.977201\n",
       "1      4.996913  1.925527\n",
       "2      4.994577  1.896124\n",
       "3      4.999121  1.931464\n",
       "4      4.990295  1.910214\n",
       "...         ...       ...\n",
       "99995  5.004644  1.941347\n",
       "99996  4.996102  1.936581\n",
       "99997  5.003164  1.856515\n",
       "99998  4.999960  1.885850\n",
       "99999  4.997259  1.947400\n",
       "\n",
       "[100000 rows x 2 columns]"
      ]
     },
     "execution_count": 5,
     "metadata": {},
     "output_type": "execute_result"
    }
   ],
   "source": [
    "Distributions"
   ]
  },
  {
   "cell_type": "markdown",
   "id": "buried-atmosphere",
   "metadata": {},
   "source": [
    "## Correlated distributions for L1 and L2\n",
    "\n",
    " We create the correlated data for L1 and L2"
   ]
  },
  {
   "cell_type": "code",
   "execution_count": 6,
   "id": "documented-collapse",
   "metadata": {},
   "outputs": [
    {
     "data": {
      "text/html": [
       "<div>\n",
       "<style scoped>\n",
       "    .dataframe tbody tr th:only-of-type {\n",
       "        vertical-align: middle;\n",
       "    }\n",
       "\n",
       "    .dataframe tbody tr th {\n",
       "        vertical-align: top;\n",
       "    }\n",
       "\n",
       "    .dataframe thead th {\n",
       "        text-align: right;\n",
       "    }\n",
       "</style>\n",
       "<table border=\"1\" class=\"dataframe\">\n",
       "  <thead>\n",
       "    <tr style=\"text-align: right;\">\n",
       "      <th></th>\n",
       "      <th>L_corr1</th>\n",
       "      <th>L_corr2</th>\n",
       "    </tr>\n",
       "  </thead>\n",
       "  <tbody>\n",
       "    <tr>\n",
       "      <th>0</th>\n",
       "      <td>4.991051</td>\n",
       "      <td>1.869034</td>\n",
       "    </tr>\n",
       "    <tr>\n",
       "      <th>1</th>\n",
       "      <td>4.991400</td>\n",
       "      <td>1.885059</td>\n",
       "    </tr>\n",
       "    <tr>\n",
       "      <th>2</th>\n",
       "      <td>5.000286</td>\n",
       "      <td>1.904617</td>\n",
       "    </tr>\n",
       "    <tr>\n",
       "      <th>3</th>\n",
       "      <td>5.010386</td>\n",
       "      <td>1.936278</td>\n",
       "    </tr>\n",
       "    <tr>\n",
       "      <th>4</th>\n",
       "      <td>5.006778</td>\n",
       "      <td>1.927125</td>\n",
       "    </tr>\n",
       "    <tr>\n",
       "      <th>...</th>\n",
       "      <td>...</td>\n",
       "      <td>...</td>\n",
       "    </tr>\n",
       "    <tr>\n",
       "      <th>99995</th>\n",
       "      <td>4.993435</td>\n",
       "      <td>1.870841</td>\n",
       "    </tr>\n",
       "    <tr>\n",
       "      <th>99996</th>\n",
       "      <td>4.984223</td>\n",
       "      <td>1.853554</td>\n",
       "    </tr>\n",
       "    <tr>\n",
       "      <th>99997</th>\n",
       "      <td>4.986013</td>\n",
       "      <td>1.857087</td>\n",
       "    </tr>\n",
       "    <tr>\n",
       "      <th>99998</th>\n",
       "      <td>4.986909</td>\n",
       "      <td>1.845746</td>\n",
       "    </tr>\n",
       "    <tr>\n",
       "      <th>99999</th>\n",
       "      <td>4.998002</td>\n",
       "      <td>1.893158</td>\n",
       "    </tr>\n",
       "  </tbody>\n",
       "</table>\n",
       "<p>100000 rows × 2 columns</p>\n",
       "</div>"
      ],
      "text/plain": [
       "        L_corr1   L_corr2\n",
       "0      4.991051  1.869034\n",
       "1      4.991400  1.885059\n",
       "2      5.000286  1.904617\n",
       "3      5.010386  1.936278\n",
       "4      5.006778  1.927125\n",
       "...         ...       ...\n",
       "99995  4.993435  1.870841\n",
       "99996  4.984223  1.853554\n",
       "99997  4.986013  1.857087\n",
       "99998  4.986909  1.845746\n",
       "99999  4.998002  1.893158\n",
       "\n",
       "[100000 rows x 2 columns]"
      ]
     },
     "execution_count": 6,
     "metadata": {},
     "output_type": "execute_result"
    }
   ],
   "source": [
    "L_means = [Distributions['L1'].mean(), Distributions['L2'].mean()]  \n",
    "L_stds  = [Distributions['L1'].std(), Distributions['L2'].std()]\n",
    "\n",
    "# Covariance matrix\n",
    "L_covs = [[L_stds[0]**2          , L_stds[0]*L_stds[1]*L_corr_n], \n",
    "          [L_stds[0]*L_stds[1]*L_corr_n,           L_stds[1]**2]]\n",
    "\n",
    "# Correlated distributions of L1 and L2\n",
    "L_corr = np.random.default_rng().multivariate_normal(L_means, L_covs, N).T \n",
    "\n",
    "# Correlated distributions based on the former covariances\n",
    "Correlated_Distributions=pd.DataFrame({'L_corr1':L_corr[0], 'L_corr2':L_corr[1]})\n",
    "Correlated_Distributions"
   ]
  },
  {
   "cell_type": "code",
   "execution_count": 7,
   "id": "experienced-telescope",
   "metadata": {},
   "outputs": [
    {
     "name": "stdout",
     "output_type": "stream",
     "text": [
      "Correlation coeficient:  [[1.         0.95991669]\n",
      " [0.95991669 1.        ]] ;\n",
      " L_COVS:  [[9.998283973174758e-05, 0.0002890104977052302], [0.0002890104977052302, 0.000906482245147611]] ;\n",
      " L_CORR:  [[4.99105051 4.99139959 5.000286   ... 4.98601318 4.98690943 4.99800207]\n",
      " [1.86903414 1.88505908 1.90461715 ... 1.85708666 1.84574636 1.89315798]] ;\n",
      " L_covariance:  0.00028796283601809737\n"
     ]
    }
   ],
   "source": [
    "# Covariance (L1, L2) and correlation coefficients as defined in GUM:\n",
    "L_covariance = (1/(N-1))*sum((L_corr[0]-L_means[0])*(L_corr[1]-L_means[1]))\n",
    "C_L = L_covariance/(L_stds[0]*L_stds[1]) # Correlation coefficients\n",
    "\n",
    "# Correlation coefficients    \n",
    "C_L0=np.corrcoef(L_corr[0], L_corr[1])\n",
    "C_L1=C_L0[0][1]\n",
    "print('Correlation coeficient: ',  C_L0,';\\n L_COVS: ',L_covs,';\\n L_CORR: ',L_corr,';\\n L_covariance: ',L_covariance)"
   ]
  },
  {
   "cell_type": "markdown",
   "id": "floating-scope",
   "metadata": {},
   "source": [
    "## Montecarlo Uncertainty Method\n",
    "### Sum and substraction of **uncorrelated** distributions\n",
    "If we use different rulers to measure either string our operation will contain correlated terms when calculating the uncertainty that we need to account for.\n"
   ]
  },
  {
   "cell_type": "code",
   "execution_count": 8,
   "id": "olive-merchandise",
   "metadata": {},
   "outputs": [],
   "source": [
    "L_sum_Uncorr   = Distributions['L1']+Distributions['L2']  # Sum of uncorrelated distributions\n",
    "L_subs_Uncorr  = Distributions['L1']-Distributions['L2'] # Substraction of uncorrelated distributions"
   ]
  },
  {
   "cell_type": "markdown",
   "id": "criminal-finish",
   "metadata": {},
   "source": [
    "### Uncertainty uncorrelated quantities"
   ]
  },
  {
   "cell_type": "code",
   "execution_count": 9,
   "id": "simple-prisoner",
   "metadata": {},
   "outputs": [],
   "source": [
    "U_Uncorr_sum_MC   = np.std(L_sum_Uncorr)     # Uncertainty of the sum of uncorrelated distributions\n",
    "U_Uncorr_subs_MC = np.std(L_subs_Uncorr)   # Uncertainty of the substraction of uncorrelated distributions "
   ]
  },
  {
   "cell_type": "markdown",
   "id": "ultimate-basin",
   "metadata": {},
   "source": [
    "### Sum and substraction of **correlated** distributions"
   ]
  },
  {
   "cell_type": "code",
   "execution_count": 10,
   "id": "small-sydney",
   "metadata": {},
   "outputs": [],
   "source": [
    "L_sum_Corr     = Correlated_Distributions['L_corr1']+Correlated_Distributions['L_corr2']  # Sum of correlated distributions\n",
    "L_subs_Corr    = Correlated_Distributions['L_corr1']-Correlated_Distributions['L_corr2']  # Substraction of correlated distributions"
   ]
  },
  {
   "cell_type": "markdown",
   "id": "pointed-bullet",
   "metadata": {},
   "source": [
    "### Uncertainty correlated quantities"
   ]
  },
  {
   "cell_type": "code",
   "execution_count": 11,
   "id": "listed-cylinder",
   "metadata": {},
   "outputs": [],
   "source": [
    "U_Corr_sum_MC   = np.std(L_sum_Corr)    # Uncertainty of the sum of correlated distributions\n",
    "U_Corr_subs_MC  = np.std(L_subs_Corr)   # Uncertainty of the substraction of correlated distributions"
   ]
  },
  {
   "cell_type": "markdown",
   "id": "universal-explanation",
   "metadata": {},
   "source": [
    "# GUM uncertainty method"
   ]
  },
  {
   "cell_type": "code",
   "execution_count": 12,
   "id": "wrong-shape",
   "metadata": {},
   "outputs": [],
   "source": [
    "### Uncertainties in summ and substraction of **uncorrelated** distributions"
   ]
  },
  {
   "cell_type": "code",
   "execution_count": 13,
   "id": "dense-lighter",
   "metadata": {},
   "outputs": [],
   "source": [
    "U_Uncorr_sum_GUM = np.sqrt(U_ruler1**2+U_ruler2**2) # Uncorrelated quantities\n",
    "U_Uncorr_subs_GUM = np.sqrt(U_ruler1**2+U_ruler2**2)"
   ]
  },
  {
   "cell_type": "code",
   "execution_count": 14,
   "id": "affected-integration",
   "metadata": {},
   "outputs": [],
   "source": [
    "### Summ and substraction of **correlated** distributions"
   ]
  },
  {
   "cell_type": "code",
   "execution_count": 15,
   "id": "active-contest",
   "metadata": {},
   "outputs": [],
   "source": [
    "U_Corr_sum_GUM   = np.sqrt(U_ruler1**2+U_ruler2**2+2*U_ruler1*U_ruler2*C_L)# Correlated quantities\n",
    "U_Corr_subs_GUM   = np.sqrt(np.abs(U_ruler1**2+U_ruler2**2-2*U_ruler1*U_ruler2*C_L))"
   ]
  },
  {
   "cell_type": "code",
   "execution_count": 16,
   "id": "acquired-mississippi",
   "metadata": {},
   "outputs": [],
   "source": [
    "#### Relative uncertainties correlated quantities:\n",
    "Urel_sum_GUM = 100*(U_Corr_sum_GUM)/(L1_mean+L2_mean)\n",
    "Urel_sum_MC = 100*(U_Corr_sum_MC)/(L_sum_Corr.mean())\n",
    "\n",
    "Urel_subs_GUM = 100*(U_Corr_subs_GUM)/abs(L1_mean-L2_mean)\n",
    "Urel_subs_MC = 100*(U_Corr_subs_MC)/abs(L_subs_Corr.mean())"
   ]
  },
  {
   "cell_type": "markdown",
   "id": "round-collective",
   "metadata": {},
   "source": [
    "    \n",
    "## Store results:"
   ]
  },
  {
   "cell_type": "code",
   "execution_count": 17,
   "id": "greenhouse-blade",
   "metadata": {},
   "outputs": [],
   "source": [
    "Uncertainties=pd.DataFrame({'Uncorrelated': {'SUM': {'GUM': U_Uncorr_sum_GUM, 'MC': U_Uncorr_sum_MC}, 'Substraction': {'GUM': U_Uncorr_subs_GUM, 'MC': U_Uncorr_subs_MC}}, \n",
    "                 'Correlated':{'SUM': {'GUM': U_Corr_sum_GUM,   'MC': U_Corr_sum_MC},   'Substraction': {'GUM': U_Corr_subs_GUM,   'MC': U_Corr_subs_MC}}})"
   ]
  },
  {
   "cell_type": "markdown",
   "id": "immune-applicant",
   "metadata": {},
   "source": [
    "# Results:\n",
    "    "
   ]
  },
  {
   "cell_type": "markdown",
   "id": "respiratory-trust",
   "metadata": {},
   "source": [
    "## Uncorrelated uncertainties:"
   ]
  },
  {
   "cell_type": "code",
   "execution_count": 18,
   "id": "based-tokyo",
   "metadata": {},
   "outputs": [
    {
     "name": "stdout",
     "output_type": "stream",
     "text": [
      "Uncertainty of the uncorrelated sum (GUM):           0.096 m\n",
      "Uncertainty of the uncorrelated sum (MC):            0.096 m\n",
      "Uncertainty of the uncorrelated substraction (GUM):  0.096 m\n",
      "Uncertainty of the uncorrelated substraction (MC):   0.096 m\n"
     ]
    }
   ],
   "source": [
    "print('Uncertainty of the uncorrelated sum (GUM):          ', k*round(Uncertainties['Uncorrelated']['SUM']['GUM'],n_dec) ,'m')\n",
    "print('Uncertainty of the uncorrelated sum (MC):           ', k*round(Uncertainties['Uncorrelated']['SUM']['MC'],n_dec) ,'m')\n",
    "print('Uncertainty of the uncorrelated substraction (GUM): ', k*round(Uncertainties['Uncorrelated']['Substraction']['GUM'],n_dec) ,'m')\n",
    "print('Uncertainty of the uncorrelated substraction (MC):  ', k*round(Uncertainties['Uncorrelated']['Substraction']['MC'],n_dec) ,'m')\n"
   ]
  },
  {
   "cell_type": "markdown",
   "id": "virgin-senate",
   "metadata": {},
   "source": [
    "## Correlated uncertainties"
   ]
  },
  {
   "cell_type": "code",
   "execution_count": 19,
   "id": "specialized-procurement",
   "metadata": {},
   "outputs": [
    {
     "name": "stdout",
     "output_type": "stream",
     "text": [
      "Uncertainty of the correlated sum (GUM):                      0.12 m\n",
      "Relative uncertainty of the correlated sum (GUM):             1.7249999999999999 %\n",
      "Uncertainty of the correlated sum (MC):                       0.12 m\n",
      "Relative uncertainty of the correlated sum (MC):              1.7279999999999998 %\n",
      "Uncertainty of the correlated substraction (GUM):             0.063 m\n",
      "Relative uncertainty of the correlated substraction (GUM):    1.9980000000000002 %\n",
      "Uncertainty of the correlated substraction (MC):              0.063 m\n",
      "Relative uncertainty of the correlated substraction (MC):     2.0010000000000003 %\n"
     ]
    }
   ],
   "source": [
    "print('Uncertainty of the correlated sum (GUM):                     ', k*round(Uncertainties['Correlated']['SUM']['GUM'],n_dec) ,'m')\n",
    "print('Relative uncertainty of the correlated sum (GUM):            ', k*round(Urel_sum_GUM,n_dec) ,'%')\n",
    "\n",
    "print('Uncertainty of the correlated sum (MC):                      ', k*round(Uncertainties['Correlated']['SUM']['MC'],n_dec) ,'m')\n",
    "print('Relative uncertainty of the correlated sum (MC):             ',k* round(Urel_sum_MC,n_dec) ,'%')\n",
    "\n",
    "print('Uncertainty of the correlated substraction (GUM):            ', k*round(Uncertainties['Correlated']['Substraction']['GUM'],n_dec) ,'m')\n",
    "print('Relative uncertainty of the correlated substraction (GUM):   ', k*round(Urel_subs_GUM,n_dec) ,'%')\n",
    "\n",
    "print('Uncertainty of the correlated substraction (MC):             ', k*round(Uncertainties['Correlated']['Substraction']['MC'],n_dec) ,'m')\n",
    "print('Relative uncertainty of the correlated substraction (MC):    ', k*round(Urel_subs_MC,n_dec) ,'%')\n"
   ]
  },
  {
   "cell_type": "markdown",
   "id": "first-composite",
   "metadata": {},
   "source": [
    "## Plot results"
   ]
  },
  {
   "cell_type": "code",
   "execution_count": 21,
   "id": "aquatic-diana",
   "metadata": {},
   "outputs": [
    {
     "data": {
      "text/plain": [
       "Text(0.5, 1.0, 'Correlated series for L -- C=0.96')"
      ]
     },
     "execution_count": 21,
     "metadata": {},
     "output_type": "execute_result"
    },
    {
     "data": {
      "image/png": "[encoded data removed]",
      "text/plain": [
       "<Figure size 432x288 with 1 Axes>"
      ]
     },
     "metadata": {
      "needs_background": "light"
     },
     "output_type": "display_data"
    },
    {
     "data": {
      "image/png": "[encoded data removed]",
      "text/plain": [
       "<Figure size 432x288 with 1 Axes>"
      ]
     },
     "metadata": {
      "needs_background": "light"
     },
     "output_type": "display_data"
    }
   ],
   "source": [
    "fig0,ax0=plt.subplots()\n",
    "ax0.scatter(L_corr[0], L_corr[1],c='b',marker='.')\n",
    "ax0.set_title('Correlation L')\n",
    "\n",
    "fig1,ax1=plt.subplots()\n",
    "ax1.set_xlim(0,50)\n",
    "ax1.plot(L_corr[0],'-k', L_corr[1],'-r',marker='*')\n",
    "ax1.set_title('Correlated series for L -- C=' + str(L_corr_n))\n"
   ]
  },
  {
   "cell_type": "code",
   "execution_count": 22,
   "id": "powered-voluntary",
   "metadata": {},
   "outputs": [],
   "source": [
    "ddc={}\n",
    "\n",
    "ddc['Frist']=77"
   ]
  },
  {
   "cell_type": "code",
   "execution_count": 23,
   "id": "polar-owner",
   "metadata": {},
   "outputs": [
    {
     "data": {
      "text/plain": [
       "{'Frist': 77}"
      ]
     },
     "execution_count": 23,
     "metadata": {},
     "output_type": "execute_result"
    }
   ],
   "source": [
    "ddc"
   ]
  },
  {
   "cell_type": "code",
   "execution_count": null,
   "id": "direct-danish",
   "metadata": {},
   "outputs": [],
   "source": []
  }
 ],
 "metadata": {
  "kernelspec": {
   "display_name": "Python 3",
   "language": "python",
   "name": "python3"
  },
  "language_info": {
   "codemirror_mode": {
    "name": "ipython",
    "version": 3
   },
   "file_extension": ".py",
   "mimetype": "text/x-python",
   "name": "python",
   "nbconvert_exporter": "python",
   "pygments_lexer": "ipython3",
   "version": "3.7.9"
  }
 },
 "nbformat": 4,
 "nbformat_minor": 5
}
