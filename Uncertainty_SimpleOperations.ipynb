{
 "cells": [
  {
   "cell_type": "markdown",
   "id": "numerical-billy",
   "metadata": {},
   "source": [
    "\"\"\"\n",
    "Created on Fri Sep 16 17:52:25 2022\n",
    "@author: fcosta\n",
    "\"\"\""
   ]
  },
  {
   "cell_type": "code",
   "execution_count": 34,
   "id": "medical-calculation",
   "metadata": {},
   "outputs": [],
   "source": [
    "import numpy as np\n",
    "import matplotlib.pyplot as plt \n",
    "import pandas as pd"
   ]
  },
  {
   "cell_type": "markdown",
   "id": "thousand-norway",
   "metadata": {},
   "source": [
    "# __Analytical view of correlated measurements.__\n",
    "## Combined uncertainty in simple operations. Addition and subtraction.\n",
    "When two input quantities are correlated, this correlation must be taken into account when estimating the combined uncertainty. \n",
    "\n",
    "This exercise aims to evaluate the effect of the correlation between two input quantities on their combined uncertainty. The measurand of interest is the distance of a string. To obtain the input quantities, or distances, we make use of two rulers. The fact that these two rulers were probably calibrated according to similar standards and operations, and scaled with comparable accuracy might make these measurements correlated.   \n",
    "We take N measurements with each ruler and obtain a mean value (L1_mean, L2_mean). The error in the measurement (U_ruler1, U_ruler2) is the standard deviation of the N measurements, and is associated with the shortest distance measurable by each ruler, with a coverage factor k."
   ]
  },
  {
   "cell_type": "markdown",
   "id": "martial-laptop",
   "metadata": {},
   "source": [
    "### Input quantities "
   ]
  },
  {
   "cell_type": "code",
   "execution_count": 35,
   "id": "corporate-remark",
   "metadata": {},
   "outputs": [],
   "source": [
    "# N° of points for the montecarlo simulation\n",
    "N=100\n",
    "\n",
    "# Expected values of the measurand estimated using ruler1 and ruler2.\n",
    "L1_mean = 1.89 # expected value L1 [m]\n",
    "L2_mean = 1.9 # Expected value L2 [m]"
   ]
  },
  {
   "cell_type": "markdown",
   "id": "alternate-service",
   "metadata": {},
   "source": [
    "### Rulers' uncertainties and correlation coefficient"
   ]
  },
  {
   "cell_type": "code",
   "execution_count": 36,
   "id": "sporting-broad",
   "metadata": {},
   "outputs": [],
   "source": [
    "U_ruler1 = .01  # uncertainty ruler1 [m] (stdv)\n",
    "U_ruler2 = .05  # uncertainty ruler2 [m] (stdv)\n",
    "L_corr_n = 0    # degree of correlation between L1 and L2: [-1,1] --> 0:uncorrelated; -1,1:fully negatively/positively correlated\n",
    "k        = 3    # coverage factor \n",
    "n_dec    = 3    # N° of decimals in the results"
   ]
  },
  {
   "cell_type": "markdown",
   "id": "vocational-idaho",
   "metadata": {},
   "source": [
    "### Random distributions"
   ]
  },
  {
   "cell_type": "code",
   "execution_count": 37,
   "id": "fancy-wiring",
   "metadata": {},
   "outputs": [],
   "source": [
    "Distributions=pd.DataFrame({'L1':np.random.normal(L1_mean,U_ruler1,N),'L2':np.random.normal(L2_mean,U_ruler2,N)})"
   ]
  },
  {
   "cell_type": "code",
   "execution_count": 38,
   "id": "working-bhutan",
   "metadata": {},
   "outputs": [
    {
     "data": {
      "text/html": [
       "<div>\n",
       "<style scoped>\n",
       "    .dataframe tbody tr th:only-of-type {\n",
       "        vertical-align: middle;\n",
       "    }\n",
       "\n",
       "    .dataframe tbody tr th {\n",
       "        vertical-align: top;\n",
       "    }\n",
       "\n",
       "    .dataframe thead th {\n",
       "        text-align: right;\n",
       "    }\n",
       "</style>\n",
       "<table border=\"1\" class=\"dataframe\">\n",
       "  <thead>\n",
       "    <tr style=\"text-align: right;\">\n",
       "      <th></th>\n",
       "      <th>L1</th>\n",
       "      <th>L2</th>\n",
       "    </tr>\n",
       "  </thead>\n",
       "  <tbody>\n",
       "    <tr>\n",
       "      <th>0</th>\n",
       "      <td>1.898585</td>\n",
       "      <td>1.889192</td>\n",
       "    </tr>\n",
       "    <tr>\n",
       "      <th>1</th>\n",
       "      <td>1.877291</td>\n",
       "      <td>1.855631</td>\n",
       "    </tr>\n",
       "    <tr>\n",
       "      <th>2</th>\n",
       "      <td>1.895407</td>\n",
       "      <td>1.921838</td>\n",
       "    </tr>\n",
       "    <tr>\n",
       "      <th>3</th>\n",
       "      <td>1.895445</td>\n",
       "      <td>1.934734</td>\n",
       "    </tr>\n",
       "    <tr>\n",
       "      <th>4</th>\n",
       "      <td>1.899444</td>\n",
       "      <td>1.863807</td>\n",
       "    </tr>\n",
       "    <tr>\n",
       "      <th>...</th>\n",
       "      <td>...</td>\n",
       "      <td>...</td>\n",
       "    </tr>\n",
       "    <tr>\n",
       "      <th>95</th>\n",
       "      <td>1.887426</td>\n",
       "      <td>1.902807</td>\n",
       "    </tr>\n",
       "    <tr>\n",
       "      <th>96</th>\n",
       "      <td>1.890100</td>\n",
       "      <td>1.954129</td>\n",
       "    </tr>\n",
       "    <tr>\n",
       "      <th>97</th>\n",
       "      <td>1.913921</td>\n",
       "      <td>1.867274</td>\n",
       "    </tr>\n",
       "    <tr>\n",
       "      <th>98</th>\n",
       "      <td>1.896996</td>\n",
       "      <td>1.875271</td>\n",
       "    </tr>\n",
       "    <tr>\n",
       "      <th>99</th>\n",
       "      <td>1.880260</td>\n",
       "      <td>1.952781</td>\n",
       "    </tr>\n",
       "  </tbody>\n",
       "</table>\n",
       "<p>100 rows × 2 columns</p>\n",
       "</div>"
      ],
      "text/plain": [
       "          L1        L2\n",
       "0   1.898585  1.889192\n",
       "1   1.877291  1.855631\n",
       "2   1.895407  1.921838\n",
       "3   1.895445  1.934734\n",
       "4   1.899444  1.863807\n",
       "..       ...       ...\n",
       "95  1.887426  1.902807\n",
       "96  1.890100  1.954129\n",
       "97  1.913921  1.867274\n",
       "98  1.896996  1.875271\n",
       "99  1.880260  1.952781\n",
       "\n",
       "[100 rows x 2 columns]"
      ]
     },
     "execution_count": 38,
     "metadata": {},
     "output_type": "execute_result"
    }
   ],
   "source": [
    "Distributions"
   ]
  },
  {
   "cell_type": "markdown",
   "id": "buried-atmosphere",
   "metadata": {},
   "source": [
    "## Correlated distributions for L1 and L2\n",
    "\n",
    " We create the correlated data for L1 and L2"
   ]
  },
  {
   "cell_type": "code",
   "execution_count": 39,
   "id": "documented-collapse",
   "metadata": {},
   "outputs": [
    {
     "data": {
      "text/html": [
       "<div>\n",
       "<style scoped>\n",
       "    .dataframe tbody tr th:only-of-type {\n",
       "        vertical-align: middle;\n",
       "    }\n",
       "\n",
       "    .dataframe tbody tr th {\n",
       "        vertical-align: top;\n",
       "    }\n",
       "\n",
       "    .dataframe thead th {\n",
       "        text-align: right;\n",
       "    }\n",
       "</style>\n",
       "<table border=\"1\" class=\"dataframe\">\n",
       "  <thead>\n",
       "    <tr style=\"text-align: right;\">\n",
       "      <th></th>\n",
       "      <th>L_corr1</th>\n",
       "      <th>L_corr2</th>\n",
       "    </tr>\n",
       "  </thead>\n",
       "  <tbody>\n",
       "    <tr>\n",
       "      <th>0</th>\n",
       "      <td>1.891067</td>\n",
       "      <td>1.941636</td>\n",
       "    </tr>\n",
       "    <tr>\n",
       "      <th>1</th>\n",
       "      <td>1.887737</td>\n",
       "      <td>1.912766</td>\n",
       "    </tr>\n",
       "    <tr>\n",
       "      <th>2</th>\n",
       "      <td>1.880712</td>\n",
       "      <td>1.934666</td>\n",
       "    </tr>\n",
       "    <tr>\n",
       "      <th>3</th>\n",
       "      <td>1.887672</td>\n",
       "      <td>1.947845</td>\n",
       "    </tr>\n",
       "    <tr>\n",
       "      <th>4</th>\n",
       "      <td>1.893816</td>\n",
       "      <td>1.886542</td>\n",
       "    </tr>\n",
       "    <tr>\n",
       "      <th>...</th>\n",
       "      <td>...</td>\n",
       "      <td>...</td>\n",
       "    </tr>\n",
       "    <tr>\n",
       "      <th>95</th>\n",
       "      <td>1.883114</td>\n",
       "      <td>1.921889</td>\n",
       "    </tr>\n",
       "    <tr>\n",
       "      <th>96</th>\n",
       "      <td>1.869162</td>\n",
       "      <td>1.943955</td>\n",
       "    </tr>\n",
       "    <tr>\n",
       "      <th>97</th>\n",
       "      <td>1.879770</td>\n",
       "      <td>1.861475</td>\n",
       "    </tr>\n",
       "    <tr>\n",
       "      <th>98</th>\n",
       "      <td>1.882052</td>\n",
       "      <td>1.906884</td>\n",
       "    </tr>\n",
       "    <tr>\n",
       "      <th>99</th>\n",
       "      <td>1.905294</td>\n",
       "      <td>1.921634</td>\n",
       "    </tr>\n",
       "  </tbody>\n",
       "</table>\n",
       "<p>100 rows × 2 columns</p>\n",
       "</div>"
      ],
      "text/plain": [
       "     L_corr1   L_corr2\n",
       "0   1.891067  1.941636\n",
       "1   1.887737  1.912766\n",
       "2   1.880712  1.934666\n",
       "3   1.887672  1.947845\n",
       "4   1.893816  1.886542\n",
       "..       ...       ...\n",
       "95  1.883114  1.921889\n",
       "96  1.869162  1.943955\n",
       "97  1.879770  1.861475\n",
       "98  1.882052  1.906884\n",
       "99  1.905294  1.921634\n",
       "\n",
       "[100 rows x 2 columns]"
      ]
     },
     "execution_count": 39,
     "metadata": {},
     "output_type": "execute_result"
    }
   ],
   "source": [
    "L_means = [Distributions['L1'].mean(), Distributions['L2'].mean()]  \n",
    "L_stds  = [Distributions['L1'].std(), Distributions['L2'].std()]\n",
    "\n",
    "# Covariance matrix\n",
    "L_covs = [[L_stds[0]**2          , L_stds[0]*L_stds[1]*L_corr_n], \n",
    "          [L_stds[0]*L_stds[1]*L_corr_n,           L_stds[1]**2]]\n",
    "\n",
    "# Correlated distributions of L1 and L2\n",
    "L_corr = np.random.default_rng().multivariate_normal(L_means, L_covs, N).T \n",
    "\n",
    "# Correlated distributions data frame\n",
    "Correlated_Distributions=pd.DataFrame({'L_corr1':L_corr[0], 'L_corr2':L_corr[1]})\n",
    "Correlated_Distributions"
   ]
  },
  {
   "cell_type": "code",
   "execution_count": 40,
   "id": "experienced-telescope",
   "metadata": {},
   "outputs": [
    {
     "name": "stdout",
     "output_type": "stream",
     "text": [
      "Correlation coeficient:  [[ 1.         -0.07921014]\n",
      " [-0.07921014  1.        ]] ;\n",
      "L_COVS:  [[9.618240302757032e-05, 0.0], [0.0, 0.0021468942167468044]] ;\n",
      "L_CORR:  [[1.89106653 1.88773719 1.8807121  1.88767244 1.89381608 1.8982964\n",
      "  1.89552474 1.90729963 1.88784916 1.89557466 1.88665263 1.89790918\n",
      "  1.88996357 1.87412067 1.87629978 1.89961378 1.88183423 1.88948937\n",
      "  1.88140517 1.89393553 1.89048302 1.88607775 1.89932659 1.89696856\n",
      "  1.89047417 1.89268653 1.88867952 1.89176226 1.88967689 1.89316773\n",
      "  1.88281394 1.88724731 1.87188244 1.88618075 1.89207291 1.88476164\n",
      "  1.88328508 1.89501712 1.89112285 1.87714566 1.87818066 1.90112227\n",
      "  1.90758683 1.89842672 1.88495383 1.88688471 1.8834211  1.89963536\n",
      "  1.8804085  1.89443358 1.89103785 1.88158276 1.88674291 1.89790162\n",
      "  1.88169693 1.8954747  1.87169337 1.89000582 1.89207749 1.87220829\n",
      "  1.89617186 1.88930785 1.89082257 1.88411167 1.89506884 1.90193145\n",
      "  1.89609895 1.9062581  1.89910568 1.88770176 1.88397844 1.90548181\n",
      "  1.88865282 1.90967393 1.89208294 1.87236828 1.8770602  1.89167014\n",
      "  1.90140211 1.91063221 1.88304401 1.89169436 1.89923904 1.88739991\n",
      "  1.90293499 1.89677613 1.89164115 1.88944013 1.88261351 1.89624788\n",
      "  1.89211578 1.90769983 1.89682882 1.89551078 1.88611423 1.88311354\n",
      "  1.8691615  1.87977041 1.88205179 1.90529378]\n",
      " [1.9416363  1.91276649 1.93466563 1.94784476 1.88654152 1.95967611\n",
      "  1.93399723 1.80172666 1.93545847 1.94680955 1.88135332 1.87641906\n",
      "  1.92002621 1.90236809 1.96026387 1.89134712 1.85488088 1.93624069\n",
      "  2.00597774 1.931575   1.99975724 1.88062372 1.82221651 1.93973733\n",
      "  1.94752646 1.8815725  1.92942304 1.95543549 1.88848855 2.03027876\n",
      "  1.88333141 1.89312753 1.91944231 1.89347722 1.84520371 1.86313831\n",
      "  1.86087439 1.8755868  1.90135657 1.86736879 2.00394142 1.88775086\n",
      "  1.85555904 1.87501603 1.84533967 1.91130132 1.91305899 1.88964573\n",
      "  1.94154935 1.91633456 1.8964377  1.90113491 1.92541354 1.78765851\n",
      "  1.93309607 1.84351371 1.83821025 1.82335445 1.91023441 1.85426399\n",
      "  1.90718529 1.89619131 1.838872   1.89185121 1.91200043 1.82807168\n",
      "  1.85573904 1.90260045 1.83750537 1.94545133 1.87898595 1.94281624\n",
      "  1.8260969  1.94571578 1.92432043 1.87844496 1.88224231 1.8553238\n",
      "  1.86078937 1.89053352 1.88830782 1.85124145 1.90125417 1.8460445\n",
      "  1.92294381 1.84925674 1.87126369 1.83076708 1.89079529 1.91232024\n",
      "  1.92642931 1.96887638 1.89746956 1.907485   1.89936266 1.92188874\n",
      "  1.94395542 1.86147512 1.90688422 1.92163352]] ;\n",
      "L_covariance:  -3.1944369457722924e-05\n"
     ]
    }
   ],
   "source": [
    "# Covariance (L1, L2) and correlation coefficients as defined in GUM:\n",
    "L_covariance = (1/(N-1))*sum((L_corr[0]-L_means[0])*(L_corr[1]-L_means[1]))\n",
    "C_L = L_covariance/(L_stds[0]*L_stds[1]) # Correlation coefficients\n",
    "\n",
    "# Correlation coefficients    \n",
    "C_L0=np.corrcoef(L_corr[0], L_corr[1])\n",
    "C_L1=C_L0[0][1]\n",
    "print('Correlation coeficient: ',  C_L0,';\\nL_COVS: ',L_covs,';\\nL_CORR: ',L_corr,';\\nL_covariance: ',L_covariance)"
   ]
  },
  {
   "cell_type": "markdown",
   "id": "floating-scope",
   "metadata": {},
   "source": [
    "## Montecarlo Uncertainty Method\n",
    "### Addition and subtraction of **uncorrelated** distributions\n",
    "If we use different rulers to measure either string our operations will contain correlated terms when calculating the uncertainty that we need to account for.\n",
    "First we add and substract the uncorrelated distributions (\"Distributions\")\n"
   ]
  },
  {
   "cell_type": "code",
   "execution_count": 41,
   "id": "olive-merchandise",
   "metadata": {},
   "outputs": [],
   "source": [
    "L_sum_Uncorr   = Distributions['L1']+Distributions['L2']  # Sum of uncorrelated distributions\n",
    "L_subs_Uncorr  = Distributions['L1']-Distributions['L2'] # Subtraction of uncorrelated distributions"
   ]
  },
  {
   "cell_type": "markdown",
   "id": "criminal-finish",
   "metadata": {},
   "source": [
    "### Uncertainty uncorrelated quantities"
   ]
  },
  {
   "cell_type": "code",
   "execution_count": 42,
   "id": "simple-prisoner",
   "metadata": {},
   "outputs": [],
   "source": [
    "U_Uncorr_sum_MC   = np.std(L_sum_Uncorr)     # Uncertainty of the sum of uncorrelated distributions\n",
    "U_Uncorr_subs_MC = np.std(L_subs_Uncorr)   # Uncertainty of the subtraction of uncorrelated distributions "
   ]
  },
  {
   "cell_type": "markdown",
   "id": "ultimate-basin",
   "metadata": {},
   "source": [
    "### Addition and substraction of **correlated** distributions\n",
    "If we use different rulers to measure either string our operations will contain correlated terms when calculating the uncertainty that we need to account for. Then, now we add/substract the correlated distributions (Correlated_Distributions)\n"
   ]
  },
  {
   "cell_type": "code",
   "execution_count": 43,
   "id": "small-sydney",
   "metadata": {},
   "outputs": [],
   "source": [
    "L_sum_Corr     = Correlated_Distributions['L_corr1']+Correlated_Distributions['L_corr2']  # Sum of correlated distributions\n",
    "L_subs_Corr    = Correlated_Distributions['L_corr1']-Correlated_Distributions['L_corr2']  # Subtraction of correlated distributions"
   ]
  },
  {
   "cell_type": "markdown",
   "id": "pointed-bullet",
   "metadata": {},
   "source": [
    "### Uncertainty correlated quantities"
   ]
  },
  {
   "cell_type": "code",
   "execution_count": 44,
   "id": "listed-cylinder",
   "metadata": {},
   "outputs": [],
   "source": [
    "U_Corr_sum_MC   = np.std(L_sum_Corr)    # Uncertainty of the addition of correlated distributions\n",
    "U_Corr_subs_MC  = np.std(L_subs_Corr)   # Uncertainty of the subtraction of correlated distributions"
   ]
  },
  {
   "cell_type": "markdown",
   "id": "universal-explanation",
   "metadata": {},
   "source": [
    "# GUM uncertainty method"
   ]
  },
  {
   "cell_type": "markdown",
   "id": "architectural-lounge",
   "metadata": {},
   "source": [
    "### Uncertainties in addition and subtraction operations when using **uncorrelated** measurements"
   ]
  },
  {
   "cell_type": "code",
   "execution_count": 45,
   "id": "dense-lighter",
   "metadata": {},
   "outputs": [],
   "source": [
    "# Uncorrelated quantities\n",
    "U_Uncorr_sum_GUM = np.sqrt(U_ruler1**2+U_ruler2**2) \n",
    "# Correlated quantities\n",
    "U_Uncorr_subs_GUM = np.sqrt(U_ruler1**2+U_ruler2**2)"
   ]
  },
  {
   "cell_type": "markdown",
   "id": "elect-joining",
   "metadata": {},
   "source": [
    "### Uncertainties in addition and subtraction operations when using **correlated** measurements"
   ]
  },
  {
   "cell_type": "code",
   "execution_count": 46,
   "id": "active-contest",
   "metadata": {},
   "outputs": [],
   "source": [
    "U_Corr_sum_GUM   = np.sqrt(U_ruler1**2+U_ruler2**2+2*U_ruler1*U_ruler2*C_L)\n",
    "U_Corr_subs_GUM  = np.sqrt(np.abs(U_ruler1**2+U_ruler2**2-2*U_ruler1*U_ruler2*C_L))"
   ]
  },
  {
   "cell_type": "markdown",
   "id": "surprising-jefferson",
   "metadata": {},
   "source": [
    "## Relative uncertainties of the correlated quantities"
   ]
  },
  {
   "cell_type": "code",
   "execution_count": 47,
   "id": "acquired-mississippi",
   "metadata": {},
   "outputs": [],
   "source": [
    "Urel_sum_GUM = 100*(U_Corr_sum_GUM)/(L1_mean+L2_mean)\n",
    "Urel_sum_MC = 100*(U_Corr_sum_MC)/(L_sum_Corr.mean())\n",
    "\n",
    "Urel_subs_GUM = 100*(U_Corr_subs_GUM)/abs(L1_mean-L2_mean)\n",
    "Urel_subs_MC = 100*(U_Corr_subs_MC)/abs(L_subs_Corr.mean())"
   ]
  },
  {
   "cell_type": "code",
   "execution_count": 48,
   "id": "greenhouse-blade",
   "metadata": {},
   "outputs": [],
   "source": [
    "## Store results\n",
    "Uncertainties=pd.DataFrame({'Uncorrelated': {'SUM': {'GUM': U_Uncorr_sum_GUM, 'MC': U_Uncorr_sum_MC}, 'Subtraction': {'GUM': U_Uncorr_subs_GUM, 'MC': U_Uncorr_subs_MC}}, \n",
    "                 'Correlated':{'SUM': {'GUM': U_Corr_sum_GUM,   'MC': U_Corr_sum_MC},   'Subtraction': {'GUM': U_Corr_subs_GUM,   'MC': U_Corr_subs_MC}}})"
   ]
  },
  {
   "cell_type": "markdown",
   "id": "immune-applicant",
   "metadata": {},
   "source": [
    "# Results"
   ]
  },
  {
   "cell_type": "markdown",
   "id": "respiratory-trust",
   "metadata": {},
   "source": [
    "## Uncorrelated uncertainties"
   ]
  },
  {
   "cell_type": "code",
   "execution_count": 49,
   "id": "based-tokyo",
   "metadata": {},
   "outputs": [
    {
     "name": "stdout",
     "output_type": "stream",
     "text": [
      "Uncertainty of the uncorrelated sum (GUM):           0.153 m\n",
      "Uncertainty of the uncorrelated sum (MC):            0.14100000000000001 m\n",
      "\n",
      "Uncertainty of the uncorrelated substraction (GUM):  0.153 m\n",
      "Uncertainty of the uncorrelated substraction (MC):   0.14100000000000001 m\n"
     ]
    }
   ],
   "source": [
    "print('Uncertainty of the uncorrelated sum (GUM):          ', k*round(Uncertainties['Uncorrelated']['SUM']['GUM'],n_dec) ,'m')\n",
    "print('Uncertainty of the uncorrelated sum (MC):           ', k*round(Uncertainties['Uncorrelated']['SUM']['MC'],n_dec) ,'m'+'\\n')\n",
    "print('Uncertainty of the uncorrelated substraction (GUM): ', k*round(Uncertainties['Uncorrelated']['Subtraction']['GUM'],n_dec) ,'m')\n",
    "print('Uncertainty of the uncorrelated substraction (MC):  ', k*round(Uncertainties['Uncorrelated']['Subtraction']['MC'],n_dec) ,'m')\n"
   ]
  },
  {
   "cell_type": "markdown",
   "id": "virgin-senate",
   "metadata": {},
   "source": [
    "## Correlated uncertainties"
   ]
  },
  {
   "cell_type": "code",
   "execution_count": 50,
   "id": "specialized-procurement",
   "metadata": {},
   "outputs": [
    {
     "name": "stdout",
     "output_type": "stream",
     "text": [
      "N° of samples: 100\n",
      "Coverage factor(k) = 3\n",
      "\n",
      "Uncertainty of the correlated sum (GUM):                      0.15000000000000002 m\n",
      "Relative uncertainty of the correlated sum (GUM):             3.981 %\n",
      "\n",
      "Uncertainty of the correlated sum (MC):                       0.135 m\n",
      "Relative uncertainty of the correlated sum (MC):              3.54 %\n",
      "\n",
      "Uncertainty of the correlated substraction (GUM):             0.156 m\n",
      "Relative uncertainty of the correlated substraction (GUM):    1550.247 %\n",
      "\n",
      "Uncertainty of the correlated substraction (MC):              0.138 m\n",
      "Relative uncertainty of the correlated substraction (MC):     1792.9679999999998 %\n"
     ]
    }
   ],
   "source": [
    "print ('N° of samples: '+str(N))\n",
    "print('Coverage factor(k) = ' +str(k)+'\\n')\n",
    "print('Uncertainty of the correlated sum (GUM):                     ', k*round(Uncertainties['Correlated']['SUM']['GUM'],n_dec) ,'m')\n",
    "print('Relative uncertainty of the correlated sum (GUM):            ', k*round(Urel_sum_GUM,n_dec) ,'%'+'\\n')\n",
    "\n",
    "print('Uncertainty of the correlated sum (MC):                      ', k*round(Uncertainties['Correlated']['SUM']['MC'],n_dec) ,'m')\n",
    "print('Relative uncertainty of the correlated sum (MC):             ',k* round(Urel_sum_MC,n_dec) ,'%'+'\\n')\n",
    "\n",
    "print('Uncertainty of the correlated substraction (GUM):            ', k*round(Uncertainties['Correlated']['Subtraction']['GUM'],n_dec) ,'m')\n",
    "print('Relative uncertainty of the correlated substraction (GUM):   ', k*round(Urel_subs_GUM,n_dec) ,'%'+'\\n')\n",
    "\n",
    "print('Uncertainty of the correlated substraction (MC):             ', k*round(Uncertainties['Correlated']['Subtraction']['MC'],n_dec) ,'m')\n",
    "print('Relative uncertainty of the correlated substraction (MC):    ', k*round(Urel_subs_MC,n_dec) ,'%')\n"
   ]
  },
  {
   "cell_type": "markdown",
   "id": "first-composite",
   "metadata": {},
   "source": [
    "## Plot results"
   ]
  },
  {
   "cell_type": "code",
   "execution_count": 51,
   "id": "aquatic-diana",
   "metadata": {},
   "outputs": [
    {
     "data": {
      "text/plain": [
       "Text(0.5, 1.0, 'Correlated series for L -- C=0; N=100')"
      ]
     },
     "execution_count": 51,
     "metadata": {},
     "output_type": "execute_result"
    },
    {
     "data": {
      "image/png": "[encoded data removed]",
      "text/plain": [
       "<Figure size 432x288 with 1 Axes>"
      ]
     },
     "metadata": {
      "needs_background": "light"
     },
     "output_type": "display_data"
    },
    {
     "data": {
      "image/png": "[encoded data removed]",
      "text/plain": [
       "<Figure size 432x288 with 1 Axes>"
      ]
     },
     "metadata": {
      "needs_background": "light"
     },
     "output_type": "display_data"
    }
   ],
   "source": [
    "fig0,ax0=plt.subplots()\n",
    "ax0.scatter(L_corr[0], L_corr[1],c='b',marker='.')\n",
    "ax0.set_title('Correlation L'+ '; N='+str(N))\n",
    "ax0.set_xlabel('L1')\n",
    "ax0.set_ylabel('L2')\n",
    "\n",
    "fig1,ax1=plt.subplots()\n",
    "ax1.set_xlim(0,50)\n",
    "ax1.plot(L_corr[0],'-k', L_corr[1],'-r',marker='*')\n",
    "ax1.set_title('Correlated series for L -- C=' + str(L_corr_n)+ '; N='+str(N))\n"
   ]
  },
  {
   "cell_type": "code",
   "execution_count": null,
   "id": "surrounded-policy",
   "metadata": {},
   "outputs": [],
   "source": []
  }
 ],
 "metadata": {
  "kernelspec": {
   "display_name": "Python 3",
   "language": "python",
   "name": "python3"
  },
  "language_info": {
   "codemirror_mode": {
    "name": "ipython",
    "version": 3
   },
   "file_extension": ".py",
   "mimetype": "text/x-python",
   "name": "python",
   "nbconvert_exporter": "python",
   "pygments_lexer": "ipython3",
   "version": "3.7.9"
  }
 },
 "nbformat": 4,
 "nbformat_minor": 5
}
