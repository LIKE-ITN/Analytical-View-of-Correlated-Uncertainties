{
 "cells": [
  {
   "cell_type": "markdown",
   "id": "hired-sleeve",
   "metadata": {},
   "source": [
    "\"\"\"\n",
    "Created on Fri Sep 16 17:52:25 2022\n",
    "@author: fcosta\n",
    "\"\"\""
   ]
  },
  {
   "cell_type": "code",
   "execution_count": 1,
   "id": "limiting-desktop",
   "metadata": {},
   "outputs": [],
   "source": [
    "import numpy as np\n",
    "import matplotlib.pyplot as plt \n",
    "import pandas as pd"
   ]
  },
  {
   "cell_type": "markdown",
   "id": "extended-edgar",
   "metadata": {},
   "source": [
    "# __Analytical view of correlated measurements.__\n",
    "## Combined uncertainty in simple operations. Addition and subtraction.\n",
    "When two input quantities are correlated, this correlation must be taken into account when estimating the combined uncertainty. \n",
    "\n",
    "This exercise aims to evaluate the effect of the correlation between two input quantities on their combined uncertainty. The measurand of interest is the distance of a string. To obtain the input quantities, or distances, we make use of two rulers. The fact that these two rulers were probably calibrated according to similar standards and operations, and scaled with comparable accuracy might make these measurements correlated.   \n",
    "We take N measurements with each ruler and obtain a mean value (L1_mean, L2_mean). The error in the measurement (U_ruler1, U_ruler2) is the standard deviation of the N measurements, and is associated with the shortest distance measurable by each ruler, with a coverage factor k."
   ]
  },
  {
   "cell_type": "markdown",
   "id": "sustained-headset",
   "metadata": {},
   "source": [
    "### Input quantities "
   ]
  },
  {
   "cell_type": "code",
   "execution_count": 2,
   "id": "exclusive-meter",
   "metadata": {},
   "outputs": [],
   "source": [
    "# N° of points for the montecarlo simulation\n",
    "N=10000\n",
    "\n",
    "# Expected values of the measurand estimated using ruler1 and ruler2.\n",
    "L1_mean = 1.89 # expected value L1 [m]\n",
    "L2_mean = 2.9 # Expected value L2 [m]"
   ]
  },
  {
   "cell_type": "markdown",
   "id": "desperate-avenue",
   "metadata": {},
   "source": [
    "### Rulers' uncertainties and correlation coefficient"
   ]
  },
  {
   "cell_type": "code",
   "execution_count": 3,
   "id": "possible-cliff",
   "metadata": {},
   "outputs": [],
   "source": [
    "U_ruler1 = .01  # uncertainty ruler1 [m] (stdv)\n",
    "U_ruler2 = .05  # uncertainty ruler2 [m] (stdv)\n",
    "L_corr_n = -.8    # degree of correlation between L1 and L2: [-1,1] --> 0:uncorrelated; -1,1:fully negatively/positively correlated\n",
    "k        = 1    # coverage factor \n",
    "n_dec    = 3    # N° of decimals in the results"
   ]
  },
  {
   "cell_type": "markdown",
   "id": "imported-notebook",
   "metadata": {},
   "source": [
    "### Random distributions"
   ]
  },
  {
   "cell_type": "code",
   "execution_count": 4,
   "id": "determined-occasions",
   "metadata": {},
   "outputs": [],
   "source": [
    "Distributions=pd.DataFrame({'L1':np.random.normal(L1_mean,U_ruler1,N),'L2':np.random.normal(L2_mean,U_ruler2,N)})"
   ]
  },
  {
   "cell_type": "code",
   "execution_count": 5,
   "id": "played-guyana",
   "metadata": {},
   "outputs": [
    {
     "data": {
      "text/html": [
       "<div>\n",
       "<style scoped>\n",
       "    .dataframe tbody tr th:only-of-type {\n",
       "        vertical-align: middle;\n",
       "    }\n",
       "\n",
       "    .dataframe tbody tr th {\n",
       "        vertical-align: top;\n",
       "    }\n",
       "\n",
       "    .dataframe thead th {\n",
       "        text-align: right;\n",
       "    }\n",
       "</style>\n",
       "<table border=\"1\" class=\"dataframe\">\n",
       "  <thead>\n",
       "    <tr style=\"text-align: right;\">\n",
       "      <th></th>\n",
       "      <th>L1</th>\n",
       "      <th>L2</th>\n",
       "    </tr>\n",
       "  </thead>\n",
       "  <tbody>\n",
       "    <tr>\n",
       "      <th>0</th>\n",
       "      <td>1.899131</td>\n",
       "      <td>2.899713</td>\n",
       "    </tr>\n",
       "    <tr>\n",
       "      <th>1</th>\n",
       "      <td>1.885618</td>\n",
       "      <td>2.976155</td>\n",
       "    </tr>\n",
       "    <tr>\n",
       "      <th>2</th>\n",
       "      <td>1.887620</td>\n",
       "      <td>2.938249</td>\n",
       "    </tr>\n",
       "    <tr>\n",
       "      <th>3</th>\n",
       "      <td>1.887343</td>\n",
       "      <td>2.879603</td>\n",
       "    </tr>\n",
       "    <tr>\n",
       "      <th>4</th>\n",
       "      <td>1.889970</td>\n",
       "      <td>2.871679</td>\n",
       "    </tr>\n",
       "    <tr>\n",
       "      <th>...</th>\n",
       "      <td>...</td>\n",
       "      <td>...</td>\n",
       "    </tr>\n",
       "    <tr>\n",
       "      <th>9995</th>\n",
       "      <td>1.872140</td>\n",
       "      <td>2.954860</td>\n",
       "    </tr>\n",
       "    <tr>\n",
       "      <th>9996</th>\n",
       "      <td>1.874284</td>\n",
       "      <td>2.831825</td>\n",
       "    </tr>\n",
       "    <tr>\n",
       "      <th>9997</th>\n",
       "      <td>1.898659</td>\n",
       "      <td>2.888233</td>\n",
       "    </tr>\n",
       "    <tr>\n",
       "      <th>9998</th>\n",
       "      <td>1.884281</td>\n",
       "      <td>2.990808</td>\n",
       "    </tr>\n",
       "    <tr>\n",
       "      <th>9999</th>\n",
       "      <td>1.878679</td>\n",
       "      <td>2.931434</td>\n",
       "    </tr>\n",
       "  </tbody>\n",
       "</table>\n",
       "<p>10000 rows × 2 columns</p>\n",
       "</div>"
      ],
      "text/plain": [
       "            L1        L2\n",
       "0     1.899131  2.899713\n",
       "1     1.885618  2.976155\n",
       "2     1.887620  2.938249\n",
       "3     1.887343  2.879603\n",
       "4     1.889970  2.871679\n",
       "...        ...       ...\n",
       "9995  1.872140  2.954860\n",
       "9996  1.874284  2.831825\n",
       "9997  1.898659  2.888233\n",
       "9998  1.884281  2.990808\n",
       "9999  1.878679  2.931434\n",
       "\n",
       "[10000 rows x 2 columns]"
      ]
     },
     "execution_count": 5,
     "metadata": {},
     "output_type": "execute_result"
    }
   ],
   "source": [
    "Distributions"
   ]
  },
  {
   "cell_type": "markdown",
   "id": "marked-failing",
   "metadata": {},
   "source": [
    "## Correlated distributions for L1 and L2\n",
    "\n",
    " We create the correlated data for L1 and L2"
   ]
  },
  {
   "cell_type": "code",
   "execution_count": 6,
   "id": "adult-physics",
   "metadata": {},
   "outputs": [
    {
     "data": {
      "text/html": [
       "<div>\n",
       "<style scoped>\n",
       "    .dataframe tbody tr th:only-of-type {\n",
       "        vertical-align: middle;\n",
       "    }\n",
       "\n",
       "    .dataframe tbody tr th {\n",
       "        vertical-align: top;\n",
       "    }\n",
       "\n",
       "    .dataframe thead th {\n",
       "        text-align: right;\n",
       "    }\n",
       "</style>\n",
       "<table border=\"1\" class=\"dataframe\">\n",
       "  <thead>\n",
       "    <tr style=\"text-align: right;\">\n",
       "      <th></th>\n",
       "      <th>L_corr1</th>\n",
       "      <th>L_corr2</th>\n",
       "    </tr>\n",
       "  </thead>\n",
       "  <tbody>\n",
       "    <tr>\n",
       "      <th>0</th>\n",
       "      <td>1.896353</td>\n",
       "      <td>2.893000</td>\n",
       "    </tr>\n",
       "    <tr>\n",
       "      <th>1</th>\n",
       "      <td>1.898871</td>\n",
       "      <td>2.830135</td>\n",
       "    </tr>\n",
       "    <tr>\n",
       "      <th>2</th>\n",
       "      <td>1.882158</td>\n",
       "      <td>2.905854</td>\n",
       "    </tr>\n",
       "    <tr>\n",
       "      <th>3</th>\n",
       "      <td>1.884381</td>\n",
       "      <td>2.974655</td>\n",
       "    </tr>\n",
       "    <tr>\n",
       "      <th>4</th>\n",
       "      <td>1.901252</td>\n",
       "      <td>2.869222</td>\n",
       "    </tr>\n",
       "    <tr>\n",
       "      <th>...</th>\n",
       "      <td>...</td>\n",
       "      <td>...</td>\n",
       "    </tr>\n",
       "    <tr>\n",
       "      <th>9995</th>\n",
       "      <td>1.878079</td>\n",
       "      <td>2.907991</td>\n",
       "    </tr>\n",
       "    <tr>\n",
       "      <th>9996</th>\n",
       "      <td>1.892431</td>\n",
       "      <td>2.894258</td>\n",
       "    </tr>\n",
       "    <tr>\n",
       "      <th>9997</th>\n",
       "      <td>1.878898</td>\n",
       "      <td>2.969805</td>\n",
       "    </tr>\n",
       "    <tr>\n",
       "      <th>9998</th>\n",
       "      <td>1.898054</td>\n",
       "      <td>2.839123</td>\n",
       "    </tr>\n",
       "    <tr>\n",
       "      <th>9999</th>\n",
       "      <td>1.890521</td>\n",
       "      <td>2.900207</td>\n",
       "    </tr>\n",
       "  </tbody>\n",
       "</table>\n",
       "<p>10000 rows × 2 columns</p>\n",
       "</div>"
      ],
      "text/plain": [
       "       L_corr1   L_corr2\n",
       "0     1.896353  2.893000\n",
       "1     1.898871  2.830135\n",
       "2     1.882158  2.905854\n",
       "3     1.884381  2.974655\n",
       "4     1.901252  2.869222\n",
       "...        ...       ...\n",
       "9995  1.878079  2.907991\n",
       "9996  1.892431  2.894258\n",
       "9997  1.878898  2.969805\n",
       "9998  1.898054  2.839123\n",
       "9999  1.890521  2.900207\n",
       "\n",
       "[10000 rows x 2 columns]"
      ]
     },
     "execution_count": 6,
     "metadata": {},
     "output_type": "execute_result"
    }
   ],
   "source": [
    "L_means = [Distributions['L1'].mean(), Distributions['L2'].mean()]  \n",
    "L_stds  = [Distributions['L1'].std(), Distributions['L2'].std()]\n",
    "\n",
    "# Covariance matrix\n",
    "L_covs = [[L_stds[0]**2          , L_stds[0]*L_stds[1]*L_corr_n], \n",
    "          [L_stds[0]*L_stds[1]*L_corr_n,           L_stds[1]**2]]\n",
    "\n",
    "# Correlated distributions of L1 and L2\n",
    "L_corr = np.random.default_rng().multivariate_normal(L_means, L_covs, N).T \n",
    "\n",
    "# Correlated distributions data frame\n",
    "Correlated_Distributions=pd.DataFrame({'L_corr1':L_corr[0], 'L_corr2':L_corr[1]})\n",
    "Correlated_Distributions"
   ]
  },
  {
   "cell_type": "code",
   "execution_count": 7,
   "id": "compact-decline",
   "metadata": {},
   "outputs": [
    {
     "name": "stdout",
     "output_type": "stream",
     "text": [
      "Correlation coefficient:  [[ 1.         -0.79721782]\n",
      " [-0.79721782  1.        ]] ;\n",
      "L_COVS:  [[0.00010057850542125251, -0.00040185652401231083], [-0.00040185652401231083, 0.002508747166188967]] ;\n",
      "L_CORR:  [[1.89635281 1.89887052 1.88215765 ... 1.87889774 1.89805398 1.89052113]\n",
      " [2.89300046 2.83013541 2.9058541  ... 2.96980471 2.83912293 2.90020661]] ;\n",
      "L_covariance:  -0.00039338008746928955\n"
     ]
    }
   ],
   "source": [
    "# Covariance (L1, L2) and correlation coefficients as defined in GUM:\n",
    "L_covariance = (1/(N-1))*sum((L_corr[0]-L_means[0])*(L_corr[1]-L_means[1]))\n",
    "C_L = L_covariance/(L_stds[0]*L_stds[1]) # Correlation coefficients\n",
    "\n",
    "# Correlation coefficients    \n",
    "C_L0=np.corrcoef(L_corr[0], L_corr[1])\n",
    "C_L1=C_L0[0][1]\n",
    "print('Correlation coefficient: ',  C_L0,';\\nL_COVS: ',L_covs,';\\nL_CORR: ',L_corr,';\\nL_covariance: ',L_covariance)"
   ]
  },
  {
   "cell_type": "markdown",
   "id": "intelligent-rubber",
   "metadata": {},
   "source": [
    "## Montecarlo Uncertainty Method\n",
    "### Addition and subtraction of **uncorrelated** distributions\n",
    "If we use different rulers to measure either string our operations will contain correlated terms when calculating the uncertainty that we need to account for.\n",
    "First we add and substract the uncorrelated distributions (\"Distributions\")\n"
   ]
  },
  {
   "cell_type": "code",
   "execution_count": 8,
   "id": "patient-stage",
   "metadata": {},
   "outputs": [],
   "source": [
    "L_sum_Uncorr   = Distributions['L1']+Distributions['L2']  # Sum of uncorrelated distributions\n",
    "L_subs_Uncorr  = Distributions['L1']-Distributions['L2'] # Subtraction of uncorrelated distributions"
   ]
  },
  {
   "cell_type": "markdown",
   "id": "twelve-marina",
   "metadata": {},
   "source": [
    "### Uncertainty uncorrelated quantities"
   ]
  },
  {
   "cell_type": "code",
   "execution_count": 9,
   "id": "improved-moderator",
   "metadata": {},
   "outputs": [],
   "source": [
    "U_Uncorr_sum_MC   = np.std(L_sum_Uncorr)     # Uncertainty of the sum of uncorrelated distributions\n",
    "U_Uncorr_subs_MC = np.std(L_subs_Uncorr)   # Uncertainty of the subtraction of uncorrelated distributions "
   ]
  },
  {
   "cell_type": "markdown",
   "id": "dental-eclipse",
   "metadata": {},
   "source": [
    "### Addition and subtraction of **correlated** distributions\n",
    "If we use different rulers to measure either string our operations will contain correlated terms when calculating the uncertainty that we need to account for. Then, now we add/substract the correlated distributions (Correlated_Distributions)\n"
   ]
  },
  {
   "cell_type": "code",
   "execution_count": 10,
   "id": "embedded-boston",
   "metadata": {},
   "outputs": [],
   "source": [
    "L_sum_Corr     = Correlated_Distributions['L_corr1']+Correlated_Distributions['L_corr2']  # Sum of correlated distributions\n",
    "L_subs_Corr    = Correlated_Distributions['L_corr1']-Correlated_Distributions['L_corr2']  # Subtraction of correlated distributions"
   ]
  },
  {
   "cell_type": "markdown",
   "id": "induced-associate",
   "metadata": {},
   "source": [
    "### Uncertainty correlated quantities"
   ]
  },
  {
   "cell_type": "code",
   "execution_count": 11,
   "id": "desperate-presentation",
   "metadata": {},
   "outputs": [],
   "source": [
    "U_Corr_sum_MC   = np.std(L_sum_Corr)    # Uncertainty of the addition of correlated distributions\n",
    "U_Corr_subs_MC  = np.std(L_subs_Corr)   # Uncertainty of the subtraction of correlated distributions"
   ]
  },
  {
   "cell_type": "markdown",
   "id": "vital-needle",
   "metadata": {},
   "source": [
    "# GUM uncertainty method"
   ]
  },
  {
   "cell_type": "markdown",
   "id": "polished-version",
   "metadata": {},
   "source": [
    "### Uncertainties in addition and subtraction operations when using **uncorrelated** measurements"
   ]
  },
  {
   "cell_type": "code",
   "execution_count": 12,
   "id": "regular-defendant",
   "metadata": {},
   "outputs": [],
   "source": [
    "# Uncorrelated quantities\n",
    "U_Uncorr_sum_GUM = np.sqrt(U_ruler1**2+U_ruler2**2) \n",
    "# Correlated quantities\n",
    "U_Uncorr_subs_GUM = np.sqrt(U_ruler1**2+U_ruler2**2)"
   ]
  },
  {
   "cell_type": "markdown",
   "id": "fallen-sodium",
   "metadata": {},
   "source": [
    "### Uncertainties in addition and subtraction operations when using **correlated** measurements"
   ]
  },
  {
   "cell_type": "code",
   "execution_count": 13,
   "id": "restricted-telescope",
   "metadata": {},
   "outputs": [],
   "source": [
    "U_Corr_sum_GUM   = np.sqrt(U_ruler1**2+U_ruler2**2+2*U_ruler1*U_ruler2*C_L)\n",
    "U_Corr_subs_GUM  = np.sqrt(np.abs(U_ruler1**2+U_ruler2**2-2*U_ruler1*U_ruler2*C_L))"
   ]
  },
  {
   "cell_type": "markdown",
   "id": "flush-musician",
   "metadata": {},
   "source": [
    "## Relative uncertainties of the correlated quantities"
   ]
  },
  {
   "cell_type": "code",
   "execution_count": 14,
   "id": "worthy-sunglasses",
   "metadata": {},
   "outputs": [],
   "source": [
    "Urel_sum_GUM = 100*(U_Corr_sum_GUM)/(L1_mean+L2_mean)\n",
    "Urel_sum_MC = 100*(U_Corr_sum_MC)/(L_sum_Corr.mean())\n",
    "\n",
    "Urel_subs_GUM = 100*(U_Corr_subs_GUM)/abs(L1_mean-L2_mean)\n",
    "Urel_subs_MC = 100*(U_Corr_subs_MC)/abs(L_subs_Corr.mean())"
   ]
  },
  {
   "cell_type": "code",
   "execution_count": 15,
   "id": "dress-ferry",
   "metadata": {},
   "outputs": [],
   "source": [
    "## Store results\n",
    "Uncertainties=pd.DataFrame({'Uncorrelated': {'SUM': {'GUM': U_Uncorr_sum_GUM, 'MC': U_Uncorr_sum_MC}, 'Subtraction': {'GUM': U_Uncorr_subs_GUM, 'MC': U_Uncorr_subs_MC}}, \n",
    "                 'Correlated':{'SUM': {'GUM': U_Corr_sum_GUM,   'MC': U_Corr_sum_MC},   'Subtraction': {'GUM': U_Corr_subs_GUM,   'MC': U_Corr_subs_MC}}})"
   ]
  },
  {
   "cell_type": "markdown",
   "id": "average-cedar",
   "metadata": {},
   "source": [
    "# Results"
   ]
  },
  {
   "cell_type": "markdown",
   "id": "descending-senator",
   "metadata": {},
   "source": [
    "## Uncorrelated uncertainties"
   ]
  },
  {
   "cell_type": "code",
   "execution_count": 16,
   "id": "extensive-voice",
   "metadata": {},
   "outputs": [
    {
     "name": "stdout",
     "output_type": "stream",
     "text": [
      "Uncertainty of the uncorrelated sum (GUM):           0.051 m\n",
      "Uncertainty of the uncorrelated sum (MC):            0.051 m\n",
      "\n",
      "Uncertainty of the uncorrelated subtraction (GUM):  0.051 m\n",
      "Uncertainty of the uncorrelated subtraction (MC):   0.051 m\n"
     ]
    }
   ],
   "source": [
    "print('Uncertainty of the uncorrelated sum (GUM):          ', k*round(Uncertainties['Uncorrelated']['SUM']['GUM'],n_dec) ,'m')\n",
    "print('Uncertainty of the uncorrelated sum (MC):           ', k*round(Uncertainties['Uncorrelated']['SUM']['MC'],n_dec) ,'m'+'\\n')\n",
    "print('Uncertainty of the uncorrelated subtraction (GUM): ', k*round(Uncertainties['Uncorrelated']['Subtraction']['GUM'],n_dec) ,'m')\n",
    "print('Uncertainty of the uncorrelated subtraction (MC):  ', k*round(Uncertainties['Uncorrelated']['Subtraction']['MC'],n_dec) ,'m')\n"
   ]
  },
  {
   "cell_type": "markdown",
   "id": "functioning-lender",
   "metadata": {},
   "source": [
    "## Correlated uncertainties"
   ]
  },
  {
   "cell_type": "code",
   "execution_count": 17,
   "id": "appreciated-trail",
   "metadata": {},
   "outputs": [
    {
     "name": "stdout",
     "output_type": "stream",
     "text": [
      "N° of samples: 10000\n",
      "Coverage factor(k) = 1\n",
      "\n",
      "Uncertainty of the correlated sum (GUM):                      0.043 m\n",
      "Relative uncertainty of the correlated sum (GUM):             0.89 %\n",
      "\n",
      "Uncertainty of the correlated sum (MC):                       0.042 m\n",
      "Relative uncertainty of the correlated sum (MC):              0.882 %\n",
      "\n",
      "Uncertainty of the correlated subtraction (GUM):             0.058 m\n",
      "Relative uncertainty of the correlated subtraction (GUM):    5.759 %\n",
      "\n",
      "Uncertainty of the correlated subtraction (MC):              0.058 m\n",
      "Relative uncertainty of the correlated subtraction (MC):     5.733 %\n"
     ]
    }
   ],
   "source": [
    "print ('N° of samples: '+str(N))\n",
    "print('Coverage factor(k) = ' +str(k)+'\\n')\n",
    "print('Uncertainty of the correlated sum (GUM):                     ', k*round(Uncertainties['Correlated']['SUM']['GUM'],n_dec) ,'m')\n",
    "print('Relative uncertainty of the correlated sum (GUM):            ', k*round(Urel_sum_GUM,n_dec) ,'%'+'\\n')\n",
    "\n",
    "print('Uncertainty of the correlated sum (MC):                      ', k*round(Uncertainties['Correlated']['SUM']['MC'],n_dec) ,'m')\n",
    "print('Relative uncertainty of the correlated sum (MC):             ',k* round(Urel_sum_MC,n_dec) ,'%'+'\\n')\n",
    "\n",
    "print('Uncertainty of the correlated subtraction (GUM):            ', k*round(Uncertainties['Correlated']['Subtraction']['GUM'],n_dec) ,'m')\n",
    "print('Relative uncertainty of the correlated subtraction (GUM):   ', k*round(Urel_subs_GUM,n_dec) ,'%'+'\\n')\n",
    "\n",
    "print('Uncertainty of the correlated subtraction (MC):             ', k*round(Uncertainties['Correlated']['Subtraction']['MC'],n_dec) ,'m')\n",
    "print('Relative uncertainty of the correlated subtraction (MC):    ', k*round(Urel_subs_MC,n_dec) ,'%')\n"
   ]
  },
  {
   "cell_type": "markdown",
   "id": "specific-orchestra",
   "metadata": {},
   "source": [
    "## Plot results"
   ]
  },
  {
   "cell_type": "code",
   "execution_count": 22,
   "id": "nasty-present",
   "metadata": {},
   "outputs": [
    {
     "data": {
      "text/plain": [
       "<matplotlib.legend.Legend at 0x29d43f28148>"
      ]
     },
     "execution_count": 22,
     "metadata": {},
     "output_type": "execute_result"
    },
    {
     "data": {
      "image/png": "[encoded data removed]",
      "text/plain": [
       "<Figure size 432x288 with 1 Axes>"
      ]
     },
     "metadata": {
      "needs_background": "light"
     },
     "output_type": "display_data"
    },
    {
     "data": {
      "image/png": "[encoded data removed]",
      "text/plain": [
       "<Figure size 432x288 with 1 Axes>"
      ]
     },
     "metadata": {
      "needs_background": "light"
     },
     "output_type": "display_data"
    }
   ],
   "source": [
    "fig0,ax0=plt.subplots()\n",
    "ax0.scatter(L_corr[0], L_corr[1],c='b',marker='.')\n",
    "ax0.set_title('Correlation L'+ '; N='+str(N),fontsize=20)\n",
    "ax0.set_xlabel('L1',fontsize=25)\n",
    "ax0.set_ylabel('L2',fontsize=25)\n",
    "\n",
    "fig1,ax1=plt.subplots()\n",
    "ax1.set_xlim(0,50)\n",
    "ax1.plot(L_corr[0],'-k',label='L1',marker='*')\n",
    "ax1.plot(L_corr[1],'-r',label='L2',marker='*')\n",
    "ax1.set_title('Correlated series with C =' + str(L_corr_n)+ '; N = '+str(N),fontsize=20)\n",
    "ax1.set_xlabel('N° samples',fontsize=25)\n",
    "ax1.set_ylabel('Length [m]',fontsize=25)\n",
    "ax1.legend()"
   ]
  },
  {
   "cell_type": "code",
   "execution_count": null,
   "id": "brief-hamilton",
   "metadata": {},
   "outputs": [],
   "source": []
  }
 ],
 "metadata": {
  "kernelspec": {
   "display_name": "Python 3",
   "language": "python",
   "name": "python3"
  },
  "language_info": {
   "codemirror_mode": {
    "name": "ipython",
    "version": 3
   },
   "file_extension": ".py",
   "mimetype": "text/x-python",
   "name": "python",
   "nbconvert_exporter": "python",
   "pygments_lexer": "ipython3",
   "version": "3.7.9"
  }
 },
 "nbformat": 4,
 "nbformat_minor": 5
}
