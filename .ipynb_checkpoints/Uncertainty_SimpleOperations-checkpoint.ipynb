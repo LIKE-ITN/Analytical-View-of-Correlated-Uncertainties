{
 "cells": [
  {
   "cell_type": "markdown",
   "id": "three-bhutan",
   "metadata": {},
   "source": [
    "\"\"\"\n",
    "Created on Fri Sep 16 17:52:25 2022\n",
    "@author: fcosta\n",
    "\"\"\""
   ]
  },
  {
   "cell_type": "code",
   "execution_count": 1,
   "id": "incorporated-context",
   "metadata": {},
   "outputs": [],
   "source": [
    "import numpy as np\n",
    "import matplotlib.pyplot as plt \n",
    "import pandas as pd"
   ]
  },
  {
   "cell_type": "markdown",
   "id": "greater-contractor",
   "metadata": {},
   "source": [
    "# __Analytical view of correlated measurements.__\n",
    "## Combined uncertainty in simple operations. Addition and subtraction.\n",
    "When two input quantities are correlated, this correlation must be taken into account when estimating the combined uncertainty. \n",
    "\n",
    "This exercise aims to evaluate the effect of the correlation between two input quantities on their combined uncertainty. The measurand of interest is the distance of a string. To obtain the input quantities, or distances, we make use of two rulers. The fact that these two rulers were probably calibrated according to similar standards and operations, and scaled with comparable accuracy might make these measurements correlated.   \n",
    "We take N measurements with each ruler and obtain a mean value (L1_mean, L2_mean). The error in the measurement (U_ruler1, U_ruler2) is the standard deviation of the N measurements, and is associated with the shortest distance measurable by each ruler, with a coverage factor k."
   ]
  },
  {
   "cell_type": "markdown",
   "id": "presidential-hello",
   "metadata": {},
   "source": [
    "### Input quantities "
   ]
  },
  {
   "cell_type": "code",
   "execution_count": 2,
   "id": "promotional-senator",
   "metadata": {},
   "outputs": [],
   "source": [
    "# N° of points for the montecarlo simulation\n",
    "N=10000\n",
    "\n",
    "# Expected values of the measurand estimated using ruler1 and ruler2.\n",
    "L1_mean = 1.89 # expected value L1 [m]\n",
    "L2_mean = 2.9 # Expected value L2 [m]"
   ]
  },
  {
   "cell_type": "markdown",
   "id": "final-preview",
   "metadata": {},
   "source": [
    "### Rulers' uncertainties and correlation coefficient"
   ]
  },
  {
   "cell_type": "code",
   "execution_count": 3,
   "id": "absent-premises",
   "metadata": {},
   "outputs": [],
   "source": [
    "U_ruler1 = .01  # uncertainty ruler1 [m] (stdv)\n",
    "U_ruler2 = .05  # uncertainty ruler2 [m] (stdv)\n",
    "L_corr_n = 0    # degree of correlation between L1 and L2: [-1,1] --> 0:uncorrelated; -1,1:fully negatively/positively correlated\n",
    "k        = 3    # coverage factor \n",
    "n_dec    = 3    # N° of decimals in the results"
   ]
  },
  {
   "cell_type": "markdown",
   "id": "increased-wilson",
   "metadata": {},
   "source": [
    "### Random distributions"
   ]
  },
  {
   "cell_type": "code",
   "execution_count": 4,
   "id": "antique-smith",
   "metadata": {},
   "outputs": [],
   "source": [
    "Distributions=pd.DataFrame({'L1':np.random.normal(L1_mean,U_ruler1,N),'L2':np.random.normal(L2_mean,U_ruler2,N)})"
   ]
  },
  {
   "cell_type": "code",
   "execution_count": 5,
   "id": "younger-nickname",
   "metadata": {},
   "outputs": [
    {
     "data": {
      "text/html": [
       "<div>\n",
       "<style scoped>\n",
       "    .dataframe tbody tr th:only-of-type {\n",
       "        vertical-align: middle;\n",
       "    }\n",
       "\n",
       "    .dataframe tbody tr th {\n",
       "        vertical-align: top;\n",
       "    }\n",
       "\n",
       "    .dataframe thead th {\n",
       "        text-align: right;\n",
       "    }\n",
       "</style>\n",
       "<table border=\"1\" class=\"dataframe\">\n",
       "  <thead>\n",
       "    <tr style=\"text-align: right;\">\n",
       "      <th></th>\n",
       "      <th>L1</th>\n",
       "      <th>L2</th>\n",
       "    </tr>\n",
       "  </thead>\n",
       "  <tbody>\n",
       "    <tr>\n",
       "      <th>0</th>\n",
       "      <td>1.868716</td>\n",
       "      <td>2.836788</td>\n",
       "    </tr>\n",
       "    <tr>\n",
       "      <th>1</th>\n",
       "      <td>1.901884</td>\n",
       "      <td>2.943805</td>\n",
       "    </tr>\n",
       "    <tr>\n",
       "      <th>2</th>\n",
       "      <td>1.893090</td>\n",
       "      <td>2.906727</td>\n",
       "    </tr>\n",
       "    <tr>\n",
       "      <th>3</th>\n",
       "      <td>1.891096</td>\n",
       "      <td>2.929831</td>\n",
       "    </tr>\n",
       "    <tr>\n",
       "      <th>4</th>\n",
       "      <td>1.876978</td>\n",
       "      <td>2.902456</td>\n",
       "    </tr>\n",
       "    <tr>\n",
       "      <th>...</th>\n",
       "      <td>...</td>\n",
       "      <td>...</td>\n",
       "    </tr>\n",
       "    <tr>\n",
       "      <th>9995</th>\n",
       "      <td>1.902924</td>\n",
       "      <td>2.989990</td>\n",
       "    </tr>\n",
       "    <tr>\n",
       "      <th>9996</th>\n",
       "      <td>1.900415</td>\n",
       "      <td>2.921062</td>\n",
       "    </tr>\n",
       "    <tr>\n",
       "      <th>9997</th>\n",
       "      <td>1.883940</td>\n",
       "      <td>2.859922</td>\n",
       "    </tr>\n",
       "    <tr>\n",
       "      <th>9998</th>\n",
       "      <td>1.898663</td>\n",
       "      <td>2.893252</td>\n",
       "    </tr>\n",
       "    <tr>\n",
       "      <th>9999</th>\n",
       "      <td>1.885884</td>\n",
       "      <td>2.862982</td>\n",
       "    </tr>\n",
       "  </tbody>\n",
       "</table>\n",
       "<p>10000 rows × 2 columns</p>\n",
       "</div>"
      ],
      "text/plain": [
       "            L1        L2\n",
       "0     1.868716  2.836788\n",
       "1     1.901884  2.943805\n",
       "2     1.893090  2.906727\n",
       "3     1.891096  2.929831\n",
       "4     1.876978  2.902456\n",
       "...        ...       ...\n",
       "9995  1.902924  2.989990\n",
       "9996  1.900415  2.921062\n",
       "9997  1.883940  2.859922\n",
       "9998  1.898663  2.893252\n",
       "9999  1.885884  2.862982\n",
       "\n",
       "[10000 rows x 2 columns]"
      ]
     },
     "execution_count": 5,
     "metadata": {},
     "output_type": "execute_result"
    }
   ],
   "source": [
    "Distributions"
   ]
  },
  {
   "cell_type": "markdown",
   "id": "chinese-tours",
   "metadata": {},
   "source": [
    "## Correlated distributions for L1 and L2\n",
    "\n",
    " We create the correlated data for L1 and L2"
   ]
  },
  {
   "cell_type": "code",
   "execution_count": 6,
   "id": "skilled-henry",
   "metadata": {},
   "outputs": [
    {
     "data": {
      "text/html": [
       "<div>\n",
       "<style scoped>\n",
       "    .dataframe tbody tr th:only-of-type {\n",
       "        vertical-align: middle;\n",
       "    }\n",
       "\n",
       "    .dataframe tbody tr th {\n",
       "        vertical-align: top;\n",
       "    }\n",
       "\n",
       "    .dataframe thead th {\n",
       "        text-align: right;\n",
       "    }\n",
       "</style>\n",
       "<table border=\"1\" class=\"dataframe\">\n",
       "  <thead>\n",
       "    <tr style=\"text-align: right;\">\n",
       "      <th></th>\n",
       "      <th>L_corr1</th>\n",
       "      <th>L_corr2</th>\n",
       "    </tr>\n",
       "  </thead>\n",
       "  <tbody>\n",
       "    <tr>\n",
       "      <th>0</th>\n",
       "      <td>1.906526</td>\n",
       "      <td>2.880135</td>\n",
       "    </tr>\n",
       "    <tr>\n",
       "      <th>1</th>\n",
       "      <td>1.898278</td>\n",
       "      <td>2.880524</td>\n",
       "    </tr>\n",
       "    <tr>\n",
       "      <th>2</th>\n",
       "      <td>1.870419</td>\n",
       "      <td>2.861285</td>\n",
       "    </tr>\n",
       "    <tr>\n",
       "      <th>3</th>\n",
       "      <td>1.896196</td>\n",
       "      <td>2.921117</td>\n",
       "    </tr>\n",
       "    <tr>\n",
       "      <th>4</th>\n",
       "      <td>1.894078</td>\n",
       "      <td>2.858272</td>\n",
       "    </tr>\n",
       "    <tr>\n",
       "      <th>...</th>\n",
       "      <td>...</td>\n",
       "      <td>...</td>\n",
       "    </tr>\n",
       "    <tr>\n",
       "      <th>9995</th>\n",
       "      <td>1.896633</td>\n",
       "      <td>2.930779</td>\n",
       "    </tr>\n",
       "    <tr>\n",
       "      <th>9996</th>\n",
       "      <td>1.881686</td>\n",
       "      <td>2.911813</td>\n",
       "    </tr>\n",
       "    <tr>\n",
       "      <th>9997</th>\n",
       "      <td>1.903654</td>\n",
       "      <td>2.870813</td>\n",
       "    </tr>\n",
       "    <tr>\n",
       "      <th>9998</th>\n",
       "      <td>1.902081</td>\n",
       "      <td>2.961776</td>\n",
       "    </tr>\n",
       "    <tr>\n",
       "      <th>9999</th>\n",
       "      <td>1.887746</td>\n",
       "      <td>2.953326</td>\n",
       "    </tr>\n",
       "  </tbody>\n",
       "</table>\n",
       "<p>10000 rows × 2 columns</p>\n",
       "</div>"
      ],
      "text/plain": [
       "       L_corr1   L_corr2\n",
       "0     1.906526  2.880135\n",
       "1     1.898278  2.880524\n",
       "2     1.870419  2.861285\n",
       "3     1.896196  2.921117\n",
       "4     1.894078  2.858272\n",
       "...        ...       ...\n",
       "9995  1.896633  2.930779\n",
       "9996  1.881686  2.911813\n",
       "9997  1.903654  2.870813\n",
       "9998  1.902081  2.961776\n",
       "9999  1.887746  2.953326\n",
       "\n",
       "[10000 rows x 2 columns]"
      ]
     },
     "execution_count": 6,
     "metadata": {},
     "output_type": "execute_result"
    }
   ],
   "source": [
    "L_means = [Distributions['L1'].mean(), Distributions['L2'].mean()]  \n",
    "L_stds  = [Distributions['L1'].std(), Distributions['L2'].std()]\n",
    "\n",
    "# Covariance matrix\n",
    "L_covs = [[L_stds[0]**2          , L_stds[0]*L_stds[1]*L_corr_n], \n",
    "          [L_stds[0]*L_stds[1]*L_corr_n,           L_stds[1]**2]]\n",
    "\n",
    "# Correlated distributions of L1 and L2\n",
    "L_corr = np.random.default_rng().multivariate_normal(L_means, L_covs, N).T \n",
    "\n",
    "# Correlated distributions data frame\n",
    "Correlated_Distributions=pd.DataFrame({'L_corr1':L_corr[0], 'L_corr2':L_corr[1]})\n",
    "Correlated_Distributions"
   ]
  },
  {
   "cell_type": "code",
   "execution_count": 7,
   "id": "abroad-power",
   "metadata": {},
   "outputs": [
    {
     "name": "stdout",
     "output_type": "stream",
     "text": [
      "Correlation coeficient:  [[ 1.         -0.01190939]\n",
      " [-0.01190939  1.        ]] ;\n",
      "L_COVS:  [[0.00010056606333671724, 0.0], [0.0, 0.0025694735887818775]] ;\n",
      "L_CORR:  [[1.90652646 1.89827775 1.87041923 ... 1.90365373 1.9020809  1.88774637]\n",
      " [2.88013532 2.88052385 2.86128505 ... 2.87081281 2.96177633 2.95332622]] ;\n",
      "L_covariance:  -6.001261805227987e-06\n"
     ]
    }
   ],
   "source": [
    "# Covariance (L1, L2) and correlation coefficients as defined in GUM:\n",
    "L_covariance = (1/(N-1))*sum((L_corr[0]-L_means[0])*(L_corr[1]-L_means[1]))\n",
    "C_L = L_covariance/(L_stds[0]*L_stds[1]) # Correlation coefficients\n",
    "\n",
    "# Correlation coefficients    \n",
    "C_L0=np.corrcoef(L_corr[0], L_corr[1])\n",
    "C_L1=C_L0[0][1]\n",
    "print('Correlation coefficient: ',  C_L0,';\\nL_COVS: ',L_covs,';\\nL_CORR: ',L_corr,';\\nL_covariance: ',L_covariance)"
   ]
  },
  {
   "cell_type": "markdown",
   "id": "controlling-keeping",
   "metadata": {},
   "source": [
    "## Montecarlo Uncertainty Method\n",
    "### Addition and subtraction of **uncorrelated** distributions\n",
    "If we use different rulers to measure either string our operations will contain correlated terms when calculating the uncertainty that we need to account for.\n",
    "First we add and substract the uncorrelated distributions (\"Distributions\")\n"
   ]
  },
  {
   "cell_type": "code",
   "execution_count": 8,
   "id": "norwegian-sleep",
   "metadata": {},
   "outputs": [],
   "source": [
    "L_sum_Uncorr   = Distributions['L1']+Distributions['L2']  # Sum of uncorrelated distributions\n",
    "L_subs_Uncorr  = Distributions['L1']-Distributions['L2'] # Subtraction of uncorrelated distributions"
   ]
  },
  {
   "cell_type": "markdown",
   "id": "russian-commitment",
   "metadata": {},
   "source": [
    "### Uncertainty uncorrelated quantities"
   ]
  },
  {
   "cell_type": "code",
   "execution_count": 9,
   "id": "spare-baseball",
   "metadata": {},
   "outputs": [],
   "source": [
    "U_Uncorr_sum_MC   = np.std(L_sum_Uncorr)     # Uncertainty of the sum of uncorrelated distributions\n",
    "U_Uncorr_subs_MC = np.std(L_subs_Uncorr)   # Uncertainty of the subtraction of uncorrelated distributions "
   ]
  },
  {
   "cell_type": "markdown",
   "id": "boolean-arbitration",
   "metadata": {},
   "source": [
    "### Addition and subtraction of **correlated** distributions\n",
    "If we use different rulers to measure either string our operations will contain correlated terms when calculating the uncertainty that we need to account for. Then, now we add/substract the correlated distributions (Correlated_Distributions)\n"
   ]
  },
  {
   "cell_type": "code",
   "execution_count": 10,
   "id": "dedicated-calculation",
   "metadata": {},
   "outputs": [],
   "source": [
    "L_sum_Corr     = Correlated_Distributions['L_corr1']+Correlated_Distributions['L_corr2']  # Sum of correlated distributions\n",
    "L_subs_Corr    = Correlated_Distributions['L_corr1']-Correlated_Distributions['L_corr2']  # Subtraction of correlated distributions"
   ]
  },
  {
   "cell_type": "markdown",
   "id": "conservative-access",
   "metadata": {},
   "source": [
    "### Uncertainty correlated quantities"
   ]
  },
  {
   "cell_type": "code",
   "execution_count": 11,
   "id": "saving-federation",
   "metadata": {},
   "outputs": [],
   "source": [
    "U_Corr_sum_MC   = np.std(L_sum_Corr)    # Uncertainty of the addition of correlated distributions\n",
    "U_Corr_subs_MC  = np.std(L_subs_Corr)   # Uncertainty of the subtraction of correlated distributions"
   ]
  },
  {
   "cell_type": "markdown",
   "id": "mature-roots",
   "metadata": {},
   "source": [
    "# GUM uncertainty method"
   ]
  },
  {
   "cell_type": "markdown",
   "id": "fresh-economy",
   "metadata": {},
   "source": [
    "### Uncertainties in addition and subtraction operations when using **uncorrelated** measurements"
   ]
  },
  {
   "cell_type": "code",
   "execution_count": 12,
   "id": "unsigned-sugar",
   "metadata": {},
   "outputs": [],
   "source": [
    "# Uncorrelated quantities\n",
    "U_Uncorr_sum_GUM = np.sqrt(U_ruler1**2+U_ruler2**2) \n",
    "# Correlated quantities\n",
    "U_Uncorr_subs_GUM = np.sqrt(U_ruler1**2+U_ruler2**2)"
   ]
  },
  {
   "cell_type": "markdown",
   "id": "broke-stylus",
   "metadata": {},
   "source": [
    "### Uncertainties in addition and subtraction operations when using **correlated** measurements"
   ]
  },
  {
   "cell_type": "code",
   "execution_count": 13,
   "id": "renewable-nigeria",
   "metadata": {},
   "outputs": [],
   "source": [
    "U_Corr_sum_GUM   = np.sqrt(U_ruler1**2+U_ruler2**2+2*U_ruler1*U_ruler2*C_L)\n",
    "U_Corr_subs_GUM  = np.sqrt(np.abs(U_ruler1**2+U_ruler2**2-2*U_ruler1*U_ruler2*C_L))"
   ]
  },
  {
   "cell_type": "markdown",
   "id": "trying-district",
   "metadata": {},
   "source": [
    "## Relative uncertainties of the correlated quantities"
   ]
  },
  {
   "cell_type": "code",
   "execution_count": 14,
   "id": "willing-throw",
   "metadata": {},
   "outputs": [],
   "source": [
    "Urel_sum_GUM = 100*(U_Corr_sum_GUM)/(L1_mean+L2_mean)\n",
    "Urel_sum_MC = 100*(U_Corr_sum_MC)/(L_sum_Corr.mean())\n",
    "\n",
    "Urel_subs_GUM = 100*(U_Corr_subs_GUM)/abs(L1_mean-L2_mean)\n",
    "Urel_subs_MC = 100*(U_Corr_subs_MC)/abs(L_subs_Corr.mean())"
   ]
  },
  {
   "cell_type": "code",
   "execution_count": 15,
   "id": "wanted-series",
   "metadata": {},
   "outputs": [],
   "source": [
    "## Store results\n",
    "Uncertainties=pd.DataFrame({'Uncorrelated': {'SUM': {'GUM': U_Uncorr_sum_GUM, 'MC': U_Uncorr_sum_MC}, 'Subtraction': {'GUM': U_Uncorr_subs_GUM, 'MC': U_Uncorr_subs_MC}}, \n",
    "                 'Correlated':{'SUM': {'GUM': U_Corr_sum_GUM,   'MC': U_Corr_sum_MC},   'Subtraction': {'GUM': U_Corr_subs_GUM,   'MC': U_Corr_subs_MC}}})"
   ]
  },
  {
   "cell_type": "markdown",
   "id": "beneficial-professor",
   "metadata": {},
   "source": [
    "# Results"
   ]
  },
  {
   "cell_type": "markdown",
   "id": "colored-bread",
   "metadata": {},
   "source": [
    "## Uncorrelated uncertainties"
   ]
  },
  {
   "cell_type": "code",
   "execution_count": 16,
   "id": "greatest-institute",
   "metadata": {},
   "outputs": [
    {
     "name": "stdout",
     "output_type": "stream",
     "text": [
      "Uncertainty of the uncorrelated sum (GUM):           0.153 m\n",
      "Uncertainty of the uncorrelated sum (MC):            0.156 m\n",
      "\n",
      "Uncertainty of the uncorrelated substraction (GUM):  0.153 m\n",
      "Uncertainty of the uncorrelated substraction (MC):   0.156 m\n"
     ]
    }
   ],
   "source": [
    "print('Uncertainty of the uncorrelated sum (GUM):          ', k*round(Uncertainties['Uncorrelated']['SUM']['GUM'],n_dec) ,'m')\n",
    "print('Uncertainty of the uncorrelated sum (MC):           ', k*round(Uncertainties['Uncorrelated']['SUM']['MC'],n_dec) ,'m'+'\\n')\n",
    "print('Uncertainty of the uncorrelated subtraction (GUM): ', k*round(Uncertainties['Uncorrelated']['Subtraction']['GUM'],n_dec) ,'m')\n",
    "print('Uncertainty of the uncorrelated subtraction (MC):  ', k*round(Uncertainties['Uncorrelated']['Subtraction']['MC'],n_dec) ,'m')\n"
   ]
  },
  {
   "cell_type": "markdown",
   "id": "fabulous-darwin",
   "metadata": {},
   "source": [
    "## Correlated uncertainties"
   ]
  },
  {
   "cell_type": "code",
   "execution_count": 17,
   "id": "transparent-stick",
   "metadata": {},
   "outputs": [
    {
     "name": "stdout",
     "output_type": "stream",
     "text": [
      "N° of samples: 10000\n",
      "Coverage factor(k) = 3\n",
      "\n",
      "Uncertainty of the correlated sum (GUM):                      0.153 m\n",
      "Relative uncertainty of the correlated sum (GUM):             3.186 %\n",
      "\n",
      "Uncertainty of the correlated sum (MC):                       0.153 m\n",
      "Relative uncertainty of the correlated sum (MC):              3.216 %\n",
      "\n",
      "Uncertainty of the correlated substraction (GUM):             0.153 m\n",
      "Relative uncertainty of the correlated substraction (GUM):    15.18 %\n",
      "\n",
      "Uncertainty of the correlated substraction (MC):              0.156 m\n",
      "Relative uncertainty of the correlated substraction (MC):     15.309 %\n"
     ]
    }
   ],
   "source": [
    "print ('N° of samples: '+str(N))\n",
    "print('Coverage factor(k) = ' +str(k)+'\\n')\n",
    "print('Uncertainty of the correlated sum (GUM):                     ', k*round(Uncertainties['Correlated']['SUM']['GUM'],n_dec) ,'m')\n",
    "print('Relative uncertainty of the correlated sum (GUM):            ', k*round(Urel_sum_GUM,n_dec) ,'%'+'\\n')\n",
    "\n",
    "print('Uncertainty of the correlated sum (MC):                      ', k*round(Uncertainties['Correlated']['SUM']['MC'],n_dec) ,'m')\n",
    "print('Relative uncertainty of the correlated sum (MC):             ',k* round(Urel_sum_MC,n_dec) ,'%'+'\\n')\n",
    "\n",
    "print('Uncertainty of the correlated subtraction (GUM):            ', k*round(Uncertainties['Correlated']['Subtraction']['GUM'],n_dec) ,'m')\n",
    "print('Relative uncertainty of the correlated subtraction (GUM):   ', k*round(Urel_subs_GUM,n_dec) ,'%'+'\\n')\n",
    "\n",
    "print('Uncertainty of the correlated subtraction (MC):             ', k*round(Uncertainties['Correlated']['Subtraction']['MC'],n_dec) ,'m')\n",
    "print('Relative uncertainty of the correlated subtraction (MC):    ', k*round(Urel_subs_MC,n_dec) ,'%')\n"
   ]
  },
  {
   "cell_type": "markdown",
   "id": "continued-right",
   "metadata": {},
   "source": [
    "## Plot results"
   ]
  },
  {
   "cell_type": "code",
   "execution_count": 18,
   "id": "external-italy",
   "metadata": {},
   "outputs": [
    {
     "data": {
      "text/plain": [
       "Text(0.5, 1.0, 'Correlated series for L -- C=0; N=10000')"
      ]
     },
     "execution_count": 18,
     "metadata": {},
     "output_type": "execute_result"
    },
    {
     "data": {
      "image/png": "[encoded data removed]",
      "text/plain": [
       "<Figure size 432x288 with 1 Axes>"
      ]
     },
     "metadata": {
      "needs_background": "light"
     },
     "output_type": "display_data"
    },
    {
     "data": {
      "image/png": "[encoded data removed]",
      "text/plain": [
       "<Figure size 432x288 with 1 Axes>"
      ]
     },
     "metadata": {
      "needs_background": "light"
     },
     "output_type": "display_data"
    }
   ],
   "source": [
    "fig0,ax0=plt.subplots()\n",
    "ax0.scatter(L_corr[0], L_corr[1],c='b',marker='.')\n",
    "ax0.set_title('Correlation L'+ '; N='+str(N))\n",
    "ax0.set_xlabel('L1')\n",
    "ax0.set_ylabel('L2')\n",
    "\n",
    "fig1,ax1=plt.subplots()\n",
    "ax1.set_xlim(0,50)\n",
    "ax1.plot(L_corr[0],'-k', L_corr[1],'-r',marker='*')\n",
    "ax1.set_title('Correlated series for L -- C=' + str(L_corr_n)+ '; N='+str(N))\n"
   ]
  },
  {
   "cell_type": "code",
   "execution_count": null,
   "id": "elementary-montreal",
   "metadata": {},
   "outputs": [],
   "source": []
  }
 ],
 "metadata": {
  "kernelspec": {
   "display_name": "Python 3",
   "language": "python",
   "name": "python3"
  },
  "language_info": {
   "codemirror_mode": {
    "name": "ipython",
    "version": 3
   },
   "file_extension": ".py",
   "mimetype": "text/x-python",
   "name": "python",
   "nbconvert_exporter": "python",
   "pygments_lexer": "ipython3",
   "version": "3.7.9"
  }
 },
 "nbformat": 4,
 "nbformat_minor": 5
}
