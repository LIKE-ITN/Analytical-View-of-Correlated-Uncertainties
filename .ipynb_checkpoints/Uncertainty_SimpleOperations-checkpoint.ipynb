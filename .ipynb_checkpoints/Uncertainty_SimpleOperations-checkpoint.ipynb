{
 "cells": [
  {
   "cell_type": "markdown",
   "id": "constant-password",
   "metadata": {},
   "source": [
    "\"\"\"\n",
    "Created on Fri Sep 16 17:52:25 2022\n",
    "@author: fcosta\n",
    "\"\"\""
   ]
  },
  {
   "cell_type": "code",
   "execution_count": 1,
   "id": "responsible-columbia",
   "metadata": {},
   "outputs": [],
   "source": [
    "import numpy as np\n",
    "import matplotlib.pyplot as plt \n",
    "import pandas as pd\n",
    "from scipy.stats import multivariate_normal"
   ]
  },
  {
   "cell_type": "markdown",
   "id": "suburban-diving",
   "metadata": {},
   "source": [
    "# __Analytical view of correlated measurements.__\n",
    "## Combined uncertainty in simple operations. Addition and subtraction.\n",
    "When two input quantities are correlated, this correlation must be taken into account when estimating the combined uncertainty. \n",
    "\n",
    "This exercise aims to evaluate the effect of the correlation between two input quantities on their combined uncertainty. The measurand of interest is the distance of a string. To obtain the input quantities, or distances, we make use of two rulers. The fact that these two rulers were probably calibrated according to similar standards and operations, and scaled with comparable accuracy might make these measurements correlated.   \n",
    "We take N measurements with each ruler and obtain a mean value (L1_mean, L2_mean). The error in the measurement (U_ruler1, U_ruler2) is the standard deviation of the N measurements, and is associated with the shortest distance measurable by each ruler, with a coverage factor k."
   ]
  },
  {
   "cell_type": "markdown",
   "id": "fuzzy-desert",
   "metadata": {},
   "source": [
    "### Input quantities "
   ]
  },
  {
   "cell_type": "code",
   "execution_count": 2,
   "id": "hearing-gender",
   "metadata": {},
   "outputs": [],
   "source": [
    "# N° of points for the montecarlo simulation\n",
    "N=1000000\n",
    "\n",
    "# Expected values of the measurand estimated using ruler1 and ruler2.\n",
    "L1_mean = 12.89 # expected value L1 [m]\n",
    "L2_mean = 22.9 # Expected value L2 [m]"
   ]
  },
  {
   "cell_type": "markdown",
   "id": "appreciated-charlotte",
   "metadata": {},
   "source": [
    "### Rulers' uncertainties and correlation coefficient"
   ]
  },
  {
   "cell_type": "code",
   "execution_count": 3,
   "id": "mounted-contamination",
   "metadata": {},
   "outputs": [],
   "source": [
    "U_ruler1 = 9.01  # uncertainty ruler1 [m] (stdv)\n",
    "U_ruler2 = 5.05  # uncertainty ruler2 [m] (stdv)\n",
    "L_corr_n = 0    # degree of correlation between L1 and L2: [-1,1] --> 0:uncorrelated; -1,1:fully negatively/positively correlated\n",
    "k        = 1    # coverage factor \n",
    "n_dec    = 3    # N° of decimals in the results"
   ]
  },
  {
   "cell_type": "markdown",
   "id": "adverse-mistake",
   "metadata": {},
   "source": [
    "### Random distributions"
   ]
  },
  {
   "cell_type": "code",
   "execution_count": 4,
   "id": "worst-iraqi",
   "metadata": {},
   "outputs": [],
   "source": [
    "Distributions=pd.DataFrame({'L1':np.random.normal(L1_mean,U_ruler1,N),'L2':np.random.normal(L2_mean,U_ruler2,N)})"
   ]
  },
  {
   "cell_type": "code",
   "execution_count": 5,
   "id": "likely-venture",
   "metadata": {},
   "outputs": [
    {
     "data": {
      "text/html": [
       "<div>\n",
       "<style scoped>\n",
       "    .dataframe tbody tr th:only-of-type {\n",
       "        vertical-align: middle;\n",
       "    }\n",
       "\n",
       "    .dataframe tbody tr th {\n",
       "        vertical-align: top;\n",
       "    }\n",
       "\n",
       "    .dataframe thead th {\n",
       "        text-align: right;\n",
       "    }\n",
       "</style>\n",
       "<table border=\"1\" class=\"dataframe\">\n",
       "  <thead>\n",
       "    <tr style=\"text-align: right;\">\n",
       "      <th></th>\n",
       "      <th>L1</th>\n",
       "      <th>L2</th>\n",
       "    </tr>\n",
       "  </thead>\n",
       "  <tbody>\n",
       "    <tr>\n",
       "      <th>0</th>\n",
       "      <td>12.479052</td>\n",
       "      <td>28.630699</td>\n",
       "    </tr>\n",
       "    <tr>\n",
       "      <th>1</th>\n",
       "      <td>9.343428</td>\n",
       "      <td>21.671030</td>\n",
       "    </tr>\n",
       "    <tr>\n",
       "      <th>2</th>\n",
       "      <td>16.394389</td>\n",
       "      <td>17.638584</td>\n",
       "    </tr>\n",
       "    <tr>\n",
       "      <th>3</th>\n",
       "      <td>10.808685</td>\n",
       "      <td>21.618827</td>\n",
       "    </tr>\n",
       "    <tr>\n",
       "      <th>4</th>\n",
       "      <td>1.987815</td>\n",
       "      <td>27.143259</td>\n",
       "    </tr>\n",
       "    <tr>\n",
       "      <th>...</th>\n",
       "      <td>...</td>\n",
       "      <td>...</td>\n",
       "    </tr>\n",
       "    <tr>\n",
       "      <th>999995</th>\n",
       "      <td>18.919305</td>\n",
       "      <td>18.383366</td>\n",
       "    </tr>\n",
       "    <tr>\n",
       "      <th>999996</th>\n",
       "      <td>8.302711</td>\n",
       "      <td>21.592294</td>\n",
       "    </tr>\n",
       "    <tr>\n",
       "      <th>999997</th>\n",
       "      <td>22.199145</td>\n",
       "      <td>28.001743</td>\n",
       "    </tr>\n",
       "    <tr>\n",
       "      <th>999998</th>\n",
       "      <td>16.232138</td>\n",
       "      <td>16.449352</td>\n",
       "    </tr>\n",
       "    <tr>\n",
       "      <th>999999</th>\n",
       "      <td>22.179618</td>\n",
       "      <td>20.724301</td>\n",
       "    </tr>\n",
       "  </tbody>\n",
       "</table>\n",
       "<p>1000000 rows × 2 columns</p>\n",
       "</div>"
      ],
      "text/plain": [
       "               L1         L2\n",
       "0       12.479052  28.630699\n",
       "1        9.343428  21.671030\n",
       "2       16.394389  17.638584\n",
       "3       10.808685  21.618827\n",
       "4        1.987815  27.143259\n",
       "...           ...        ...\n",
       "999995  18.919305  18.383366\n",
       "999996   8.302711  21.592294\n",
       "999997  22.199145  28.001743\n",
       "999998  16.232138  16.449352\n",
       "999999  22.179618  20.724301\n",
       "\n",
       "[1000000 rows x 2 columns]"
      ]
     },
     "execution_count": 5,
     "metadata": {},
     "output_type": "execute_result"
    }
   ],
   "source": [
    "Distributions"
   ]
  },
  {
   "cell_type": "markdown",
   "id": "historical-eligibility",
   "metadata": {},
   "source": [
    "## Correlated distributions for L1 and L2\n",
    "\n",
    " We create the correlated data for L1 and L2"
   ]
  },
  {
   "cell_type": "code",
   "execution_count": 6,
   "id": "complete-voltage",
   "metadata": {},
   "outputs": [
    {
     "data": {
      "text/html": [
       "<div>\n",
       "<style scoped>\n",
       "    .dataframe tbody tr th:only-of-type {\n",
       "        vertical-align: middle;\n",
       "    }\n",
       "\n",
       "    .dataframe tbody tr th {\n",
       "        vertical-align: top;\n",
       "    }\n",
       "\n",
       "    .dataframe thead th {\n",
       "        text-align: right;\n",
       "    }\n",
       "</style>\n",
       "<table border=\"1\" class=\"dataframe\">\n",
       "  <thead>\n",
       "    <tr style=\"text-align: right;\">\n",
       "      <th></th>\n",
       "      <th>L_corr1</th>\n",
       "      <th>L_corr2</th>\n",
       "    </tr>\n",
       "  </thead>\n",
       "  <tbody>\n",
       "    <tr>\n",
       "      <th>0</th>\n",
       "      <td>14.308014</td>\n",
       "      <td>20.718008</td>\n",
       "    </tr>\n",
       "    <tr>\n",
       "      <th>1</th>\n",
       "      <td>19.084776</td>\n",
       "      <td>15.929619</td>\n",
       "    </tr>\n",
       "    <tr>\n",
       "      <th>2</th>\n",
       "      <td>-0.912457</td>\n",
       "      <td>14.459991</td>\n",
       "    </tr>\n",
       "    <tr>\n",
       "      <th>3</th>\n",
       "      <td>24.258123</td>\n",
       "      <td>20.915886</td>\n",
       "    </tr>\n",
       "    <tr>\n",
       "      <th>4</th>\n",
       "      <td>13.580776</td>\n",
       "      <td>15.169166</td>\n",
       "    </tr>\n",
       "    <tr>\n",
       "      <th>...</th>\n",
       "      <td>...</td>\n",
       "      <td>...</td>\n",
       "    </tr>\n",
       "    <tr>\n",
       "      <th>999995</th>\n",
       "      <td>21.203744</td>\n",
       "      <td>24.385284</td>\n",
       "    </tr>\n",
       "    <tr>\n",
       "      <th>999996</th>\n",
       "      <td>5.604972</td>\n",
       "      <td>15.556851</td>\n",
       "    </tr>\n",
       "    <tr>\n",
       "      <th>999997</th>\n",
       "      <td>9.646670</td>\n",
       "      <td>28.609216</td>\n",
       "    </tr>\n",
       "    <tr>\n",
       "      <th>999998</th>\n",
       "      <td>-7.135436</td>\n",
       "      <td>15.841398</td>\n",
       "    </tr>\n",
       "    <tr>\n",
       "      <th>999999</th>\n",
       "      <td>6.292534</td>\n",
       "      <td>28.011392</td>\n",
       "    </tr>\n",
       "  </tbody>\n",
       "</table>\n",
       "<p>1000000 rows × 2 columns</p>\n",
       "</div>"
      ],
      "text/plain": [
       "          L_corr1    L_corr2\n",
       "0       14.308014  20.718008\n",
       "1       19.084776  15.929619\n",
       "2       -0.912457  14.459991\n",
       "3       24.258123  20.915886\n",
       "4       13.580776  15.169166\n",
       "...           ...        ...\n",
       "999995  21.203744  24.385284\n",
       "999996   5.604972  15.556851\n",
       "999997   9.646670  28.609216\n",
       "999998  -7.135436  15.841398\n",
       "999999   6.292534  28.011392\n",
       "\n",
       "[1000000 rows x 2 columns]"
      ]
     },
     "execution_count": 6,
     "metadata": {},
     "output_type": "execute_result"
    }
   ],
   "source": [
    "L_means = [Distributions['L1'].mean(), Distributions['L2'].mean()]  \n",
    "L_stds  = [Distributions['L1'].std(), Distributions['L2'].std()]\n",
    "\n",
    "# Covariance matrix\n",
    "L_covs = [[L_stds[0]**2          , L_stds[0]*L_stds[1]*L_corr_n], \n",
    "          [L_stds[0]*L_stds[1]*L_corr_n,           L_stds[1]**2]]\n",
    "\n",
    "# Correlated distributions of L1 and L2\n",
    "L_corr = multivariate_normal.rvs(L_means, L_covs, N).T \n",
    "\n",
    "# Correlated distributions data frame\n",
    "Correlated_Distributions=pd.DataFrame({'L_corr1':L_corr[0], 'L_corr2':L_corr[1]})\n",
    "Correlated_Distributions"
   ]
  },
  {
   "cell_type": "code",
   "execution_count": 7,
   "id": "political-compromise",
   "metadata": {},
   "outputs": [
    {
     "name": "stdout",
     "output_type": "stream",
     "text": [
      "Correlation coefficient:  [[ 1.         -0.00169684]\n",
      " [-0.00169684  1.        ]] ;\n",
      "L_COVS:  [[81.17848518139309, 0.0], [0.0, 25.53554545361844]] ;\n",
      "L_covariance:  -0.07732863315925928\n"
     ]
    }
   ],
   "source": [
    "# Covariance (L1, L2) and correlation coefficients as defined in GUM:\n",
    "L_covariance = (1/(N-1))*sum((L_corr[0]-L_means[0])*(L_corr[1]-L_means[1]))\n",
    "C_L = L_covariance/(L_stds[0]*L_stds[1]) # Correlation coefficients\n",
    "\n",
    "# Correlation coefficients    \n",
    "C_L0=np.corrcoef(L_corr[0], L_corr[1])\n",
    "print('Correlation coefficient: ',  C_L0,';\\nL_COVS: ',L_covs,';\\nL_covariance: ',L_covariance)"
   ]
  },
  {
   "cell_type": "markdown",
   "id": "integrated-salon",
   "metadata": {},
   "source": [
    "## Montecarlo Uncertainty Method\n",
    "### Addition and subtraction of **uncorrelated** distributions\n",
    "If we use different rulers to measure either string our operations will contain correlated terms when calculating the uncertainty that we need to account for.\n",
    "First we add and substract the uncorrelated distributions (\"Distributions\")\n"
   ]
  },
  {
   "cell_type": "code",
   "execution_count": 8,
   "id": "central-fundamental",
   "metadata": {},
   "outputs": [],
   "source": [
    "L_sum_Uncorr   = Distributions['L1']+Distributions['L2']  # Sum of uncorrelated distributions\n",
    "L_subs_Uncorr  = Distributions['L1']-Distributions['L2'] # Subtraction of uncorrelated distributions"
   ]
  },
  {
   "cell_type": "markdown",
   "id": "center-capability",
   "metadata": {},
   "source": [
    "### Uncertainty uncorrelated quantities"
   ]
  },
  {
   "cell_type": "code",
   "execution_count": 9,
   "id": "short-coverage",
   "metadata": {},
   "outputs": [],
   "source": [
    "U_Uncorr_sum_MC   = np.std(L_sum_Uncorr)     # Uncertainty of the sum of uncorrelated distributions\n",
    "U_Uncorr_subs_MC = np.std(L_subs_Uncorr)   # Uncertainty of the subtraction of uncorrelated distributions "
   ]
  },
  {
   "cell_type": "markdown",
   "id": "descending-symbol",
   "metadata": {},
   "source": [
    "### Addition and subtraction of **correlated** distributions\n",
    "If we use different rulers to measure either string our operations will contain correlated terms when calculating the uncertainty that we need to account for. Then, now we add/substract the correlated distributions (Correlated_Distributions)\n"
   ]
  },
  {
   "cell_type": "code",
   "execution_count": 10,
   "id": "elder-bulgaria",
   "metadata": {},
   "outputs": [],
   "source": [
    "L_sum_Corr     = Correlated_Distributions['L_corr1']+Correlated_Distributions['L_corr2']  # Sum of correlated distributions\n",
    "L_subs_Corr    = Correlated_Distributions['L_corr1']-Correlated_Distributions['L_corr2']  # Subtraction of correlated distributions"
   ]
  },
  {
   "cell_type": "markdown",
   "id": "answering-membrane",
   "metadata": {},
   "source": [
    "### Uncertainty correlated quantities"
   ]
  },
  {
   "cell_type": "code",
   "execution_count": 11,
   "id": "identified-witness",
   "metadata": {},
   "outputs": [],
   "source": [
    "U_Corr_sum_MC   = np.std(L_sum_Corr)    # Uncertainty of the addition of correlated distributions\n",
    "U_Corr_subs_MC  = np.std(L_subs_Corr)   # Uncertainty of the subtraction of correlated distributions"
   ]
  },
  {
   "cell_type": "markdown",
   "id": "coral-honduras",
   "metadata": {},
   "source": [
    "# GUM uncertainty method"
   ]
  },
  {
   "cell_type": "markdown",
   "id": "faced-madagascar",
   "metadata": {},
   "source": [
    "### Uncertainties in addition and subtraction operations when using **uncorrelated** measurements"
   ]
  },
  {
   "cell_type": "code",
   "execution_count": 12,
   "id": "fifth-vegetable",
   "metadata": {},
   "outputs": [],
   "source": [
    "# Uncorrelated quantities\n",
    "U_Uncorr_sum_GUM = np.sqrt(U_ruler1**2+U_ruler2**2) \n",
    "# Correlated quantities\n",
    "U_Uncorr_subs_GUM = np.sqrt(U_ruler1**2+U_ruler2**2)"
   ]
  },
  {
   "cell_type": "markdown",
   "id": "appreciated-strike",
   "metadata": {},
   "source": [
    "### Uncertainties in addition and subtraction operations when using **correlated** measurements"
   ]
  },
  {
   "cell_type": "code",
   "execution_count": 13,
   "id": "historical-essex",
   "metadata": {},
   "outputs": [],
   "source": [
    "U_Corr_sum_GUM   = np.sqrt(U_ruler1**2+U_ruler2**2+2*U_ruler1*U_ruler2*C_L)\n",
    "U_Corr_subs_GUM  = np.sqrt(np.abs(U_ruler1**2+U_ruler2**2-2*U_ruler1*U_ruler2*C_L))"
   ]
  },
  {
   "cell_type": "markdown",
   "id": "explicit-accessory",
   "metadata": {},
   "source": [
    "## Relative uncertainties of the correlated quantities"
   ]
  },
  {
   "cell_type": "code",
   "execution_count": 14,
   "id": "statewide-command",
   "metadata": {},
   "outputs": [],
   "source": [
    "Urel_sum_GUM = 100*(U_Corr_sum_GUM)/(L1_mean+L2_mean)\n",
    "Urel_sum_MC = 100*(U_Corr_sum_MC)/(L_sum_Corr.mean())\n",
    "\n",
    "Urel_subs_GUM = 100*(U_Corr_subs_GUM)/abs(L1_mean-L2_mean)\n",
    "Urel_subs_MC = 100*(U_Corr_subs_MC)/abs(L_subs_Corr.mean())"
   ]
  },
  {
   "cell_type": "code",
   "execution_count": 15,
   "id": "loose-comment",
   "metadata": {},
   "outputs": [],
   "source": [
    "## Store results\n",
    "Uncertainties=pd.DataFrame({'Uncorrelated': {'SUM': {'GUM': U_Uncorr_sum_GUM, 'MC': U_Uncorr_sum_MC}, 'Subtraction': {'GUM': U_Uncorr_subs_GUM, 'MC': U_Uncorr_subs_MC}}, \n",
    "                 'Correlated':{'SUM': {'GUM': U_Corr_sum_GUM,   'MC': U_Corr_sum_MC},   'Subtraction': {'GUM': U_Corr_subs_GUM,   'MC': U_Corr_subs_MC}}})"
   ]
  },
  {
   "cell_type": "markdown",
   "id": "conceptual-taste",
   "metadata": {},
   "source": [
    "# Results"
   ]
  },
  {
   "cell_type": "markdown",
   "id": "supposed-ebony",
   "metadata": {},
   "source": [
    "## Uncorrelated uncertainties"
   ]
  },
  {
   "cell_type": "code",
   "execution_count": 16,
   "id": "automated-connection",
   "metadata": {},
   "outputs": [
    {
     "name": "stdout",
     "output_type": "stream",
     "text": [
      "Uncertainty of the uncorrelated sum (GUM):           10.329 m\n",
      "Uncertainty of the uncorrelated sum (MC):            10.329 m\n",
      "\n",
      "Uncertainty of the uncorrelated subtraction (GUM):  10.329 m\n",
      "Uncertainty of the uncorrelated subtraction (MC):   10.331 m\n"
     ]
    }
   ],
   "source": [
    "print('Uncertainty of the uncorrelated sum (GUM):          ', k*round(Uncertainties['Uncorrelated']['SUM']['GUM'],n_dec) ,'m')\n",
    "print('Uncertainty of the uncorrelated sum (MC):           ', k*round(Uncertainties['Uncorrelated']['SUM']['MC'],n_dec) ,'m'+'\\n')\n",
    "print('Uncertainty of the uncorrelated subtraction (GUM): ', k*round(Uncertainties['Uncorrelated']['Subtraction']['GUM'],n_dec) ,'m')\n",
    "print('Uncertainty of the uncorrelated subtraction (MC):  ', k*round(Uncertainties['Uncorrelated']['Subtraction']['MC'],n_dec) ,'m')\n"
   ]
  },
  {
   "cell_type": "markdown",
   "id": "finished-range",
   "metadata": {},
   "source": [
    "## Correlated uncertainties"
   ]
  },
  {
   "cell_type": "code",
   "execution_count": 17,
   "id": "existing-oxygen",
   "metadata": {},
   "outputs": [
    {
     "name": "stdout",
     "output_type": "stream",
     "text": [
      "N° of samples: 1000000\n",
      "Coverage factor(k) = 1\n",
      "\n",
      "Uncertainty of the correlated sum (GUM):                      10.321 m\n",
      "Relative uncertainty of the correlated sum (GUM):             28.838 %\n",
      "\n",
      "Uncertainty of the correlated sum (MC):                       10.325 m\n",
      "Relative uncertainty of the correlated sum (MC):              28.843 %\n",
      "\n",
      "Uncertainty of the correlated subtraction (GUM):             10.336 m\n",
      "Relative uncertainty of the correlated subtraction (GUM):    103.259 %\n",
      "\n",
      "Uncertainty of the correlated subtraction (MC):              10.34 m\n",
      "Relative uncertainty of the correlated subtraction (MC):     103.194 %\n"
     ]
    }
   ],
   "source": [
    "print ('N° of samples: '+str(N))\n",
    "print('Coverage factor(k) = ' +str(k)+'\\n')\n",
    "print('Uncertainty of the correlated sum (GUM):                     ', k*round(Uncertainties['Correlated']['SUM']['GUM'],n_dec) ,'m')\n",
    "print('Relative uncertainty of the correlated sum (GUM):            ', k*round(Urel_sum_GUM,n_dec) ,'%'+'\\n')\n",
    "\n",
    "print('Uncertainty of the correlated sum (MC):                      ', k*round(Uncertainties['Correlated']['SUM']['MC'],n_dec) ,'m')\n",
    "print('Relative uncertainty of the correlated sum (MC):             ',k* round(Urel_sum_MC,n_dec) ,'%'+'\\n')\n",
    "\n",
    "print('Uncertainty of the correlated subtraction (GUM):            ', k*round(Uncertainties['Correlated']['Subtraction']['GUM'],n_dec) ,'m')\n",
    "print('Relative uncertainty of the correlated subtraction (GUM):   ', k*round(Urel_subs_GUM,n_dec) ,'%'+'\\n')\n",
    "\n",
    "print('Uncertainty of the correlated subtraction (MC):             ', k*round(Uncertainties['Correlated']['Subtraction']['MC'],n_dec) ,'m')\n",
    "print('Relative uncertainty of the correlated subtraction (MC):    ', k*round(Urel_subs_MC,n_dec) ,'%')\n"
   ]
  },
  {
   "cell_type": "markdown",
   "id": "ceramic-truth",
   "metadata": {},
   "source": [
    "## Plot results"
   ]
  },
  {
   "cell_type": "code",
   "execution_count": 18,
   "id": "interpreted-sound",
   "metadata": {},
   "outputs": [
    {
     "data": {
      "text/plain": [
       "<matplotlib.legend.Legend at 0x222cb39b508>"
      ]
     },
     "execution_count": 18,
     "metadata": {},
     "output_type": "execute_result"
    }
   ],
   "source": [
    "fig0,ax0=plt.subplots()\n",
    "ax0.scatter(L_corr[0], L_corr[1],c='b',marker='.')\n",
    "ax0.set_title('Correlation L'+ '; N='+str(N),fontsize=20)\n",
    "ax0.set_xlabel('L1',fontsize=25)\n",
    "ax0.set_ylabel('L2',fontsize=25)\n",
    "\n",
    "fig1,ax1=plt.subplots()\n",
    "ax1.set_xlim(0,50)\n",
    "ax1.plot(L_corr[0],'-k',label='L1',marker='*')\n",
    "ax1.plot(L_corr[1],'-r',label='L2',marker='*')\n",
    "ax1.set_title('Correlated series with C =' + str(L_corr_n)+ '; N = '+str(N),fontsize=20)\n",
    "ax1.set_xlabel('N° samples',fontsize=25)\n",
    "ax1.set_ylabel('Length [m]',fontsize=25)\n",
    "ax1.legend()"
   ]
  }
 ],
 "metadata": {
  "kernelspec": {
   "display_name": "Python 3",
   "language": "python",
   "name": "python3"
  },
  "language_info": {
   "codemirror_mode": {
    "name": "ipython",
    "version": 3
   },
   "file_extension": ".py",
   "mimetype": "text/x-python",
   "name": "python",
   "nbconvert_exporter": "python",
   "pygments_lexer": "ipython3",
   "version": "3.7.9"
  }
 },
 "nbformat": 4,
 "nbformat_minor": 5
}
